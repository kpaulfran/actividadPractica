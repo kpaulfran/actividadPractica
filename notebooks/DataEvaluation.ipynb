{
 "cells": [
  {
   "cell_type": "markdown",
   "metadata": {},
   "source": [
    "*COMPRENSION DE LOS DATOS*"
   ]
  },
  {
   "cell_type": "markdown",
   "metadata": {},
   "source": [
    "Definición de calidad de datos:\n",
    "\n",
    "La calidad de los datos se refiere a aquella información generada en los procesos que cumplan con los parametros de integridad, validez y consistencia, esto debe ser validado y medido para garantizar el control de los datos, y poder levantar incidencias para mejoras en el proceso de generación de la información.\n",
    "\n",
    "Donde:\n",
    "\n",
    "- Integridad hace referencia a que estos datos una vez generados no sean manipulados y contengan toda la información necesaria, de acuerdo a los criterios del proceso.\n",
    "\n",
    "- Validez o exactitud, se define como el cumplimiento de parámetros pre establecidos sobre características especificas de un proceso o información.\n",
    "\n",
    "- Y, consistencia de la información evitando incompatibilidad entre distintos contextos."
   ]
  },
  {
   "cell_type": "markdown",
   "metadata": {},
   "source": [
    "Alcance de la evaluación:\n",
    "\n",
    "Para este proyecto se define como alcance la validación de los datasets mencionados al inicio de este documento.\n",
    "\n",
    "Se centrará en evaluar cada dataset considerando cada uno de los parámetros que fueron definidos en la calidad de los datos:\n",
    "\n",
    "- Integridad: ¿Faltan datos obligatorios o valores clave?\n",
    "\n",
    "- Validez: ¿Los valores cumplen con formatos y reglas definidas (ej., números en rangos aceptables)?\n",
    "\n",
    "- Consistencia: ¿Los datos son uniformes entre datasets relacionados?\n",
    "\n",
    "Para esto se utilizará python como lenguaje de programación y las librerías que posee (pandas, numpy, matplotlib, otros)"
   ]
  },
  {
   "cell_type": "markdown",
   "metadata": {},
   "source": [
    "Datasets a evaluar:\n",
    "\n",
    "datos_creditos.csv: exactitud, consistencia, validez.\n",
    "\n",
    "- Información de solicitudes de crédito (edad, importe, tasas, estado del crédito).\n",
    "\n",
    "datos_nuevos.csv: integridad, consistencia.\n",
    "\n",
    "- Información más reciente sobre clientes y su relación con la entidad.\n",
    "\n",
    "datos_tarjetas.csv: consistencia, validez.\n",
    "\n",
    "- Detalles de clientes con tarjetas de crédito (antigüedad, límite, nivel educativo)."
   ]
  },
  {
   "cell_type": "code",
   "execution_count": 403,
   "metadata": {},
   "outputs": [],
   "source": [
    "#Agregando librerias necesarias para la limpieza y extracción\n",
    "import pandas as pd\n",
    "import numpy as np\n",
    "import seaborn as sns"
   ]
  },
  {
   "cell_type": "markdown",
   "metadata": {},
   "source": [
    "Paso 1: Preparación\n",
    "\n",
    "Separar columnas: \n",
    "\n",
    "Procesar los archivos delimitados por ; para transformarlos en un formato tabular correcto.\n",
    "Exploración inicial: Obtener perfiles de los datos (tipos de datos, cantidad de valores nulos, valores únicos, etc.)."
   ]
  },
  {
   "cell_type": "code",
   "execution_count": 404,
   "metadata": {},
   "outputs": [],
   "source": [
    "#Llamando los datasets para su evaluación\n",
    "\n",
    "datos_creditos = pd.read_csv(\"C:/Users/Asus/OneDrive/Documentos/GitHub/actividadPractica/data/raw/datos_creditos.csv\", sep=\";\")\n",
    "datos_nuevos = pd.read_csv(\"C:/Users/Asus/OneDrive/Documentos/GitHub/actividadPractica/data/raw/datos_nuevos.csv\", sep=\";\")\n",
    "datos_tarjetas = pd.read_csv(\"C:/Users/Asus/OneDrive/Documentos/GitHub/actividadPractica/data/raw/datos_tarjetas.csv\", sep=\";\")"
   ]
  },
  {
   "cell_type": "markdown",
   "metadata": {},
   "source": [
    "Validación de la calidad de los datos\n",
    "\n",
    "Validar formatos:\n",
    "\n",
    "- Revisar que los datos cumplan con las reglas definidas (ej.: fechas válidas, números positivos).\n",
    "Ejemplo: Las tasas de interés deben ser números entre 0 y 100.\n",
    "\n",
    "Buscar valores faltantes:\n",
    "\n",
    "- Detectar campos vacíos o nulos en atributos clave (ej.: edad, importe solicitado, límites de crédito).\n",
    "\n",
    "Detección de duplicados:\n",
    "\n",
    "- Identificar registros duplicados usando claves únicas como id_cliente.\n",
    "\n",
    "Revisar consistencia interna:\n",
    "\n",
    "- Verificar relaciones entre columnas dentro de un dataset.\n",
    "Ejemplo: La suma de subtotales debe coincidir con el total de una transacción.\n",
    "\n",
    "Evaluar consistencia externa:\n",
    "\n",
    "- Comparar los tres datasets para detectar discrepancias.\n",
    "Ejemplo: Un cliente en datos_creditos.csv debería aparecer con el mismo ID y atributos básicos en datos_tarjetas.csv.\n",
    "\n",
    "Calcular métricas:\n",
    "\n",
    "- Proporción de datos válidos.\n",
    "\n",
    "- Porcentaje de duplicados.\n",
    "\n",
    "- Porcentaje de datos completos.\n",
    "\n",
    "- Indicadores específicos por dimensión."
   ]
  },
  {
   "cell_type": "markdown",
   "metadata": {},
   "source": [
    "DATASET DATOS DE TARJETAS"
   ]
  },
  {
   "cell_type": "code",
   "execution_count": 405,
   "metadata": {},
   "outputs": [
    {
     "name": "stdout",
     "output_type": "stream",
     "text": [
      "<class 'pandas.core.frame.DataFrame'>\n",
      "RangeIndex: 10127 entries, 0 to 10126\n",
      "Data columns (total 11 columns):\n",
      " #   Column               Non-Null Count  Dtype  \n",
      "---  ------               --------------  -----  \n",
      " 0   id_cliente           10127 non-null  float64\n",
      " 1   antiguedad_cliente   10127 non-null  float64\n",
      " 2   estado_civil         10127 non-null  object \n",
      " 3   estado_cliente       10127 non-null  object \n",
      " 4   gastos_ult_12m       10127 non-null  float64\n",
      " 5   genero               10127 non-null  object \n",
      " 6   limite_credito_tc    10127 non-null  float64\n",
      " 7   nivel_educativo      10127 non-null  object \n",
      " 8   nivel_tarjeta        10127 non-null  object \n",
      " 9   operaciones_ult_12m  10127 non-null  float64\n",
      " 10  personas_a_cargo     10127 non-null  float64\n",
      "dtypes: float64(6), object(5)\n",
      "memory usage: 870.4+ KB\n"
     ]
    }
   ],
   "source": [
    "#Validando formatos\n",
    "datos_tarjetas.info()"
   ]
  },
  {
   "cell_type": "code",
   "execution_count": 406,
   "metadata": {},
   "outputs": [
    {
     "data": {
      "text/html": [
       "<div>\n",
       "<style scoped>\n",
       "    .dataframe tbody tr th:only-of-type {\n",
       "        vertical-align: middle;\n",
       "    }\n",
       "\n",
       "    .dataframe tbody tr th {\n",
       "        vertical-align: top;\n",
       "    }\n",
       "\n",
       "    .dataframe thead th {\n",
       "        text-align: right;\n",
       "    }\n",
       "</style>\n",
       "<table border=\"1\" class=\"dataframe\">\n",
       "  <thead>\n",
       "    <tr style=\"text-align: right;\">\n",
       "      <th></th>\n",
       "      <th>id_cliente</th>\n",
       "      <th>antiguedad_cliente</th>\n",
       "      <th>estado_civil</th>\n",
       "      <th>estado_cliente</th>\n",
       "      <th>gastos_ult_12m</th>\n",
       "      <th>genero</th>\n",
       "      <th>limite_credito_tc</th>\n",
       "      <th>nivel_educativo</th>\n",
       "      <th>nivel_tarjeta</th>\n",
       "      <th>operaciones_ult_12m</th>\n",
       "      <th>personas_a_cargo</th>\n",
       "    </tr>\n",
       "  </thead>\n",
       "  <tbody>\n",
       "    <tr>\n",
       "      <th>0</th>\n",
       "      <td>713061558.0</td>\n",
       "      <td>36.0</td>\n",
       "      <td>CASADO</td>\n",
       "      <td>ACTIVO</td>\n",
       "      <td>1088.0</td>\n",
       "      <td>M</td>\n",
       "      <td>4010.0</td>\n",
       "      <td>UNIVERSITARIO_COMPLETO</td>\n",
       "      <td>Blue</td>\n",
       "      <td>24.0</td>\n",
       "      <td>2.0</td>\n",
       "    </tr>\n",
       "    <tr>\n",
       "      <th>1</th>\n",
       "      <td>768805383.0</td>\n",
       "      <td>39.0</td>\n",
       "      <td>CASADO</td>\n",
       "      <td>ACTIVO</td>\n",
       "      <td>1144.0</td>\n",
       "      <td>M</td>\n",
       "      <td>12691.0</td>\n",
       "      <td>SECUNDARIO_COMPLETO</td>\n",
       "      <td>Blue</td>\n",
       "      <td>42.0</td>\n",
       "      <td>3.0</td>\n",
       "    </tr>\n",
       "    <tr>\n",
       "      <th>2</th>\n",
       "      <td>818770008.0</td>\n",
       "      <td>44.0</td>\n",
       "      <td>SOLTERO</td>\n",
       "      <td>ACTIVO</td>\n",
       "      <td>1291.0</td>\n",
       "      <td>F</td>\n",
       "      <td>8256.0</td>\n",
       "      <td>UNIVERSITARIO_COMPLETO</td>\n",
       "      <td>Blue</td>\n",
       "      <td>33.0</td>\n",
       "      <td>5.0</td>\n",
       "    </tr>\n",
       "    <tr>\n",
       "      <th>3</th>\n",
       "      <td>713982108.0</td>\n",
       "      <td>36.0</td>\n",
       "      <td>CASADO</td>\n",
       "      <td>ACTIVO</td>\n",
       "      <td>1887.0</td>\n",
       "      <td>M</td>\n",
       "      <td>3418.0</td>\n",
       "      <td>UNIVERSITARIO_COMPLETO</td>\n",
       "      <td>Blue</td>\n",
       "      <td>20.0</td>\n",
       "      <td>3.0</td>\n",
       "    </tr>\n",
       "    <tr>\n",
       "      <th>4</th>\n",
       "      <td>710821833.0</td>\n",
       "      <td>54.0</td>\n",
       "      <td>CASADO</td>\n",
       "      <td>ACTIVO</td>\n",
       "      <td>1314.0</td>\n",
       "      <td>M</td>\n",
       "      <td>9095.0</td>\n",
       "      <td>DESCONOCIDO</td>\n",
       "      <td>Blue</td>\n",
       "      <td>26.0</td>\n",
       "      <td>1.0</td>\n",
       "    </tr>\n",
       "  </tbody>\n",
       "</table>\n",
       "</div>"
      ],
      "text/plain": [
       "    id_cliente  antiguedad_cliente estado_civil estado_cliente  \\\n",
       "0  713061558.0                36.0       CASADO         ACTIVO   \n",
       "1  768805383.0                39.0       CASADO         ACTIVO   \n",
       "2  818770008.0                44.0      SOLTERO         ACTIVO   \n",
       "3  713982108.0                36.0       CASADO         ACTIVO   \n",
       "4  710821833.0                54.0       CASADO         ACTIVO   \n",
       "\n",
       "   gastos_ult_12m genero  limite_credito_tc         nivel_educativo  \\\n",
       "0          1088.0      M             4010.0  UNIVERSITARIO_COMPLETO   \n",
       "1          1144.0      M            12691.0     SECUNDARIO_COMPLETO   \n",
       "2          1291.0      F             8256.0  UNIVERSITARIO_COMPLETO   \n",
       "3          1887.0      M             3418.0  UNIVERSITARIO_COMPLETO   \n",
       "4          1314.0      M             9095.0             DESCONOCIDO   \n",
       "\n",
       "  nivel_tarjeta  operaciones_ult_12m  personas_a_cargo  \n",
       "0          Blue                 24.0               2.0  \n",
       "1          Blue                 42.0               3.0  \n",
       "2          Blue                 33.0               5.0  \n",
       "3          Blue                 20.0               3.0  \n",
       "4          Blue                 26.0               1.0  "
      ]
     },
     "execution_count": 406,
     "metadata": {},
     "output_type": "execute_result"
    }
   ],
   "source": [
    "datos_tarjetas.head()"
   ]
  },
  {
   "cell_type": "markdown",
   "metadata": {},
   "source": [
    "DATASET DATOS DE CREDITOS"
   ]
  },
  {
   "cell_type": "code",
   "execution_count": 407,
   "metadata": {},
   "outputs": [
    {
     "name": "stdout",
     "output_type": "stream",
     "text": [
      "<class 'pandas.core.frame.DataFrame'>\n",
      "RangeIndex: 10127 entries, 0 to 10126\n",
      "Data columns (total 12 columns):\n",
      " #   Column               Non-Null Count  Dtype  \n",
      "---  ------               --------------  -----  \n",
      " 0   id_cliente           10127 non-null  float64\n",
      " 1   edad                 10127 non-null  int64  \n",
      " 2   importe_solicitado   10127 non-null  int64  \n",
      " 3   duracion_credito     10127 non-null  int64  \n",
      " 4   antiguedad_empleado  9790 non-null   float64\n",
      " 5   situacion_vivienda   10127 non-null  object \n",
      " 6   ingresos             10127 non-null  int64  \n",
      " 7   objetivo_credito     10127 non-null  object \n",
      " 8   pct_ingreso          10127 non-null  float64\n",
      " 9   tasa_interes         9215 non-null   float64\n",
      " 10  estado_credito       10127 non-null  int64  \n",
      " 11  falta_pago           10127 non-null  object \n",
      "dtypes: float64(4), int64(5), object(3)\n",
      "memory usage: 949.5+ KB\n"
     ]
    }
   ],
   "source": [
    "datos_creditos.info()"
   ]
  },
  {
   "cell_type": "code",
   "execution_count": 408,
   "metadata": {},
   "outputs": [
    {
     "data": {
      "text/html": [
       "<div>\n",
       "<style scoped>\n",
       "    .dataframe tbody tr th:only-of-type {\n",
       "        vertical-align: middle;\n",
       "    }\n",
       "\n",
       "    .dataframe tbody tr th {\n",
       "        vertical-align: top;\n",
       "    }\n",
       "\n",
       "    .dataframe thead th {\n",
       "        text-align: right;\n",
       "    }\n",
       "</style>\n",
       "<table border=\"1\" class=\"dataframe\">\n",
       "  <thead>\n",
       "    <tr style=\"text-align: right;\">\n",
       "      <th></th>\n",
       "      <th>id_cliente</th>\n",
       "      <th>antiguedad_cliente</th>\n",
       "      <th>estado_civil</th>\n",
       "      <th>estado_cliente</th>\n",
       "      <th>gastos_ult_12m</th>\n",
       "      <th>genero</th>\n",
       "      <th>limite_credito_tc</th>\n",
       "      <th>nivel_educativo</th>\n",
       "      <th>nivel_tarjeta</th>\n",
       "      <th>operaciones_ult_12m</th>\n",
       "      <th>personas_a_cargo</th>\n",
       "    </tr>\n",
       "  </thead>\n",
       "  <tbody>\n",
       "    <tr>\n",
       "      <th>0</th>\n",
       "      <td>713061558.0</td>\n",
       "      <td>36.0</td>\n",
       "      <td>CASADO</td>\n",
       "      <td>ACTIVO</td>\n",
       "      <td>1088.0</td>\n",
       "      <td>M</td>\n",
       "      <td>4010.0</td>\n",
       "      <td>UNIVERSITARIO_COMPLETO</td>\n",
       "      <td>Blue</td>\n",
       "      <td>24.0</td>\n",
       "      <td>2.0</td>\n",
       "    </tr>\n",
       "    <tr>\n",
       "      <th>1</th>\n",
       "      <td>768805383.0</td>\n",
       "      <td>39.0</td>\n",
       "      <td>CASADO</td>\n",
       "      <td>ACTIVO</td>\n",
       "      <td>1144.0</td>\n",
       "      <td>M</td>\n",
       "      <td>12691.0</td>\n",
       "      <td>SECUNDARIO_COMPLETO</td>\n",
       "      <td>Blue</td>\n",
       "      <td>42.0</td>\n",
       "      <td>3.0</td>\n",
       "    </tr>\n",
       "    <tr>\n",
       "      <th>2</th>\n",
       "      <td>818770008.0</td>\n",
       "      <td>44.0</td>\n",
       "      <td>SOLTERO</td>\n",
       "      <td>ACTIVO</td>\n",
       "      <td>1291.0</td>\n",
       "      <td>F</td>\n",
       "      <td>8256.0</td>\n",
       "      <td>UNIVERSITARIO_COMPLETO</td>\n",
       "      <td>Blue</td>\n",
       "      <td>33.0</td>\n",
       "      <td>5.0</td>\n",
       "    </tr>\n",
       "    <tr>\n",
       "      <th>3</th>\n",
       "      <td>713982108.0</td>\n",
       "      <td>36.0</td>\n",
       "      <td>CASADO</td>\n",
       "      <td>ACTIVO</td>\n",
       "      <td>1887.0</td>\n",
       "      <td>M</td>\n",
       "      <td>3418.0</td>\n",
       "      <td>UNIVERSITARIO_COMPLETO</td>\n",
       "      <td>Blue</td>\n",
       "      <td>20.0</td>\n",
       "      <td>3.0</td>\n",
       "    </tr>\n",
       "    <tr>\n",
       "      <th>4</th>\n",
       "      <td>710821833.0</td>\n",
       "      <td>54.0</td>\n",
       "      <td>CASADO</td>\n",
       "      <td>ACTIVO</td>\n",
       "      <td>1314.0</td>\n",
       "      <td>M</td>\n",
       "      <td>9095.0</td>\n",
       "      <td>DESCONOCIDO</td>\n",
       "      <td>Blue</td>\n",
       "      <td>26.0</td>\n",
       "      <td>1.0</td>\n",
       "    </tr>\n",
       "  </tbody>\n",
       "</table>\n",
       "</div>"
      ],
      "text/plain": [
       "    id_cliente  antiguedad_cliente estado_civil estado_cliente  \\\n",
       "0  713061558.0                36.0       CASADO         ACTIVO   \n",
       "1  768805383.0                39.0       CASADO         ACTIVO   \n",
       "2  818770008.0                44.0      SOLTERO         ACTIVO   \n",
       "3  713982108.0                36.0       CASADO         ACTIVO   \n",
       "4  710821833.0                54.0       CASADO         ACTIVO   \n",
       "\n",
       "   gastos_ult_12m genero  limite_credito_tc         nivel_educativo  \\\n",
       "0          1088.0      M             4010.0  UNIVERSITARIO_COMPLETO   \n",
       "1          1144.0      M            12691.0     SECUNDARIO_COMPLETO   \n",
       "2          1291.0      F             8256.0  UNIVERSITARIO_COMPLETO   \n",
       "3          1887.0      M             3418.0  UNIVERSITARIO_COMPLETO   \n",
       "4          1314.0      M             9095.0             DESCONOCIDO   \n",
       "\n",
       "  nivel_tarjeta  operaciones_ult_12m  personas_a_cargo  \n",
       "0          Blue                 24.0               2.0  \n",
       "1          Blue                 42.0               3.0  \n",
       "2          Blue                 33.0               5.0  \n",
       "3          Blue                 20.0               3.0  \n",
       "4          Blue                 26.0               1.0  "
      ]
     },
     "execution_count": 408,
     "metadata": {},
     "output_type": "execute_result"
    }
   ],
   "source": [
    "datos_tarjetas.head()"
   ]
  },
  {
   "cell_type": "markdown",
   "metadata": {},
   "source": [
    "DATASET DATOS DE CREDITOS"
   ]
  },
  {
   "cell_type": "code",
   "execution_count": 409,
   "metadata": {},
   "outputs": [
    {
     "name": "stdout",
     "output_type": "stream",
     "text": [
      "<class 'pandas.core.frame.DataFrame'>\n",
      "RangeIndex: 112 entries, 0 to 111\n",
      "Data columns (total 21 columns):\n",
      " #   Column               Non-Null Count  Dtype  \n",
      "---  ------               --------------  -----  \n",
      " 0   id_cliente           112 non-null    int64  \n",
      " 1   edad                 112 non-null    int64  \n",
      " 2   importe_solicitado   112 non-null    int64  \n",
      " 3   duracion_credito     112 non-null    int64  \n",
      " 4   antiguedad_empleado  112 non-null    float64\n",
      " 5   situacion_vivienda   112 non-null    object \n",
      " 6   ingresos             112 non-null    int64  \n",
      " 7   objetivo_credito     112 non-null    object \n",
      " 8   pct_ingreso          112 non-null    float64\n",
      " 9   tasa_interes         107 non-null    float64\n",
      " 10  estado_credito       112 non-null    int64  \n",
      " 11  antiguedad_cliente   112 non-null    int64  \n",
      " 12  estado_civil         112 non-null    object \n",
      " 13  estado_cliente       112 non-null    object \n",
      " 14  gastos_ult_12m       112 non-null    float64\n",
      " 15  genero               112 non-null    object \n",
      " 16  limite_credito_tc    112 non-null    float64\n",
      " 17  nivel_educativo      112 non-null    object \n",
      " 18  nivel_tarjeta        112 non-null    object \n",
      " 19  operaciones_ult_12m  112 non-null    float64\n",
      " 20  personas_a_cargo     112 non-null    float64\n",
      "dtypes: float64(7), int64(7), object(7)\n",
      "memory usage: 18.5+ KB\n"
     ]
    }
   ],
   "source": [
    "datos_nuevos.info()"
   ]
  },
  {
   "cell_type": "code",
   "execution_count": 410,
   "metadata": {},
   "outputs": [
    {
     "data": {
      "text/html": [
       "<div>\n",
       "<style scoped>\n",
       "    .dataframe tbody tr th:only-of-type {\n",
       "        vertical-align: middle;\n",
       "    }\n",
       "\n",
       "    .dataframe tbody tr th {\n",
       "        vertical-align: top;\n",
       "    }\n",
       "\n",
       "    .dataframe thead th {\n",
       "        text-align: right;\n",
       "    }\n",
       "</style>\n",
       "<table border=\"1\" class=\"dataframe\">\n",
       "  <thead>\n",
       "    <tr style=\"text-align: right;\">\n",
       "      <th></th>\n",
       "      <th>id_cliente</th>\n",
       "      <th>antiguedad_cliente</th>\n",
       "      <th>estado_civil</th>\n",
       "      <th>estado_cliente</th>\n",
       "      <th>gastos_ult_12m</th>\n",
       "      <th>genero</th>\n",
       "      <th>limite_credito_tc</th>\n",
       "      <th>nivel_educativo</th>\n",
       "      <th>nivel_tarjeta</th>\n",
       "      <th>operaciones_ult_12m</th>\n",
       "      <th>personas_a_cargo</th>\n",
       "    </tr>\n",
       "  </thead>\n",
       "  <tbody>\n",
       "    <tr>\n",
       "      <th>0</th>\n",
       "      <td>713061558.0</td>\n",
       "      <td>36.0</td>\n",
       "      <td>CASADO</td>\n",
       "      <td>ACTIVO</td>\n",
       "      <td>1088.0</td>\n",
       "      <td>M</td>\n",
       "      <td>4010.0</td>\n",
       "      <td>UNIVERSITARIO_COMPLETO</td>\n",
       "      <td>Blue</td>\n",
       "      <td>24.0</td>\n",
       "      <td>2.0</td>\n",
       "    </tr>\n",
       "    <tr>\n",
       "      <th>1</th>\n",
       "      <td>768805383.0</td>\n",
       "      <td>39.0</td>\n",
       "      <td>CASADO</td>\n",
       "      <td>ACTIVO</td>\n",
       "      <td>1144.0</td>\n",
       "      <td>M</td>\n",
       "      <td>12691.0</td>\n",
       "      <td>SECUNDARIO_COMPLETO</td>\n",
       "      <td>Blue</td>\n",
       "      <td>42.0</td>\n",
       "      <td>3.0</td>\n",
       "    </tr>\n",
       "    <tr>\n",
       "      <th>2</th>\n",
       "      <td>818770008.0</td>\n",
       "      <td>44.0</td>\n",
       "      <td>SOLTERO</td>\n",
       "      <td>ACTIVO</td>\n",
       "      <td>1291.0</td>\n",
       "      <td>F</td>\n",
       "      <td>8256.0</td>\n",
       "      <td>UNIVERSITARIO_COMPLETO</td>\n",
       "      <td>Blue</td>\n",
       "      <td>33.0</td>\n",
       "      <td>5.0</td>\n",
       "    </tr>\n",
       "    <tr>\n",
       "      <th>3</th>\n",
       "      <td>713982108.0</td>\n",
       "      <td>36.0</td>\n",
       "      <td>CASADO</td>\n",
       "      <td>ACTIVO</td>\n",
       "      <td>1887.0</td>\n",
       "      <td>M</td>\n",
       "      <td>3418.0</td>\n",
       "      <td>UNIVERSITARIO_COMPLETO</td>\n",
       "      <td>Blue</td>\n",
       "      <td>20.0</td>\n",
       "      <td>3.0</td>\n",
       "    </tr>\n",
       "    <tr>\n",
       "      <th>4</th>\n",
       "      <td>710821833.0</td>\n",
       "      <td>54.0</td>\n",
       "      <td>CASADO</td>\n",
       "      <td>ACTIVO</td>\n",
       "      <td>1314.0</td>\n",
       "      <td>M</td>\n",
       "      <td>9095.0</td>\n",
       "      <td>DESCONOCIDO</td>\n",
       "      <td>Blue</td>\n",
       "      <td>26.0</td>\n",
       "      <td>1.0</td>\n",
       "    </tr>\n",
       "  </tbody>\n",
       "</table>\n",
       "</div>"
      ],
      "text/plain": [
       "    id_cliente  antiguedad_cliente estado_civil estado_cliente  \\\n",
       "0  713061558.0                36.0       CASADO         ACTIVO   \n",
       "1  768805383.0                39.0       CASADO         ACTIVO   \n",
       "2  818770008.0                44.0      SOLTERO         ACTIVO   \n",
       "3  713982108.0                36.0       CASADO         ACTIVO   \n",
       "4  710821833.0                54.0       CASADO         ACTIVO   \n",
       "\n",
       "   gastos_ult_12m genero  limite_credito_tc         nivel_educativo  \\\n",
       "0          1088.0      M             4010.0  UNIVERSITARIO_COMPLETO   \n",
       "1          1144.0      M            12691.0     SECUNDARIO_COMPLETO   \n",
       "2          1291.0      F             8256.0  UNIVERSITARIO_COMPLETO   \n",
       "3          1887.0      M             3418.0  UNIVERSITARIO_COMPLETO   \n",
       "4          1314.0      M             9095.0             DESCONOCIDO   \n",
       "\n",
       "  nivel_tarjeta  operaciones_ult_12m  personas_a_cargo  \n",
       "0          Blue                 24.0               2.0  \n",
       "1          Blue                 42.0               3.0  \n",
       "2          Blue                 33.0               5.0  \n",
       "3          Blue                 20.0               3.0  \n",
       "4          Blue                 26.0               1.0  "
      ]
     },
     "execution_count": 410,
     "metadata": {},
     "output_type": "execute_result"
    }
   ],
   "source": [
    "datos_tarjetas.head()"
   ]
  },
  {
   "cell_type": "markdown",
   "metadata": {},
   "source": [
    "Generar reportes con:\n",
    "\n",
    "- Problemas detectados (por dataset y dimensión).\n",
    "\n",
    "- Estadísticas relevantes (valores faltantes, duplicados, inconsistencias)."
   ]
  },
  {
   "cell_type": "markdown",
   "metadata": {},
   "source": [
    "DATOS TARJETAS"
   ]
  },
  {
   "cell_type": "markdown",
   "metadata": {},
   "source": [
    "Valores nulos = 0 %"
   ]
  },
  {
   "cell_type": "code",
   "execution_count": 411,
   "metadata": {},
   "outputs": [
    {
     "name": "stdout",
     "output_type": "stream",
     "text": [
      "Valores nulos en id_cliente: 0\n",
      "Valores nulos en antiguedad_cliente: 0\n",
      "Valores nulos en estado_civil: 0\n",
      "Valores nulos en estado_cliente: 0\n",
      "Valores nulos en gastos_ult_12m: 0\n",
      "Valores nulos en genero: 0\n",
      "Valores nulos en limite_credito_tc: 0\n",
      "Valores nulos en nivel_educativo: 0\n",
      "Valores nulos en nivel_tarjeta: 0\n",
      "Valores nulos en operaciones_ult_12m: 0\n",
      "Valores nulos en personas_a_cargo: 0\n"
     ]
    }
   ],
   "source": [
    "#Valores faltantes\n",
    "for column in datos_tarjetas:\n",
    "    nulos_columna = datos_tarjetas[column].isnull().sum()\n",
    "    print(f\"Valores nulos en {column}: {nulos_columna}\")"
   ]
  },
  {
   "cell_type": "markdown",
   "metadata": {},
   "source": [
    "Valores duplicados = 0 %"
   ]
  },
  {
   "cell_type": "code",
   "execution_count": 412,
   "metadata": {},
   "outputs": [
    {
     "name": "stdout",
     "output_type": "stream",
     "text": [
      "Número de filas duplicadas en id_cliente: 0\n",
      "Número de filas duplicadas en antiguedad_cliente: 0\n",
      "Número de filas duplicadas en estado_civil: 0\n",
      "Número de filas duplicadas en estado_cliente: 0\n",
      "Número de filas duplicadas en gastos_ult_12m: 0\n",
      "Número de filas duplicadas en genero: 0\n",
      "Número de filas duplicadas en limite_credito_tc: 0\n",
      "Número de filas duplicadas en nivel_educativo: 0\n",
      "Número de filas duplicadas en nivel_tarjeta: 0\n",
      "Número de filas duplicadas en operaciones_ult_12m: 0\n",
      "Número de filas duplicadas en personas_a_cargo: 0\n"
     ]
    }
   ],
   "source": [
    "#Valores duplicados\n",
    "for column in datos_tarjetas:\n",
    "    num_duplicados = datos_tarjetas.duplicated().sum()\n",
    "    print(f\"Número de filas duplicadas en {column}: {num_duplicados}\")"
   ]
  },
  {
   "cell_type": "markdown",
   "metadata": {},
   "source": [
    "Consistencia de datos: OK"
   ]
  },
  {
   "cell_type": "code",
   "execution_count": 413,
   "metadata": {},
   "outputs": [
    {
     "name": "stdout",
     "output_type": "stream",
     "text": [
      "antiguedad_cliente\n",
      "count    10127.000000\n",
      "mean        35.928409\n",
      "std          7.986416\n",
      "min         13.000000\n",
      "25%         31.000000\n",
      "50%         36.000000\n",
      "75%         40.000000\n",
      "max         56.000000\n",
      "Name: antiguedad_cliente, dtype: float64\n",
      "\n",
      "\n",
      "gastos_ult_12m\n",
      "count    10127.000000\n",
      "mean      4404.086304\n",
      "std       3397.129254\n",
      "min        510.000000\n",
      "25%       2155.500000\n",
      "50%       3899.000000\n",
      "75%       4741.000000\n",
      "max      18484.000000\n",
      "Name: gastos_ult_12m, dtype: float64\n",
      "\n",
      "\n",
      "limite_credito_tc\n",
      "count    10127.000000\n",
      "mean      8631.953698\n",
      "std       9088.776650\n",
      "min       1438.300000\n",
      "25%       2555.000000\n",
      "50%       4549.000000\n",
      "75%      11067.500000\n",
      "max      34516.000000\n",
      "Name: limite_credito_tc, dtype: float64\n",
      "\n",
      "\n",
      "operaciones_ult_12m\n",
      "count    10127.000000\n",
      "mean        64.858695\n",
      "std         23.472570\n",
      "min         10.000000\n",
      "25%         45.000000\n",
      "50%         67.000000\n",
      "75%         81.000000\n",
      "max        139.000000\n",
      "Name: operaciones_ult_12m, dtype: float64\n",
      "\n",
      "\n",
      "personas_a_cargo\n",
      "count    10127.000000\n",
      "mean         2.346203\n",
      "std          1.298908\n",
      "min          0.000000\n",
      "25%          1.000000\n",
      "50%          2.000000\n",
      "75%          3.000000\n",
      "max          5.000000\n",
      "Name: personas_a_cargo, dtype: float64\n",
      "\n",
      "\n"
     ]
    }
   ],
   "source": [
    "#Consistencia de los datos numéricos\n",
    "for column in datos_tarjetas.select_dtypes(include=['number']):\n",
    "    if column != \"id_cliente\" :\n",
    "        print(column)\n",
    "        print(datos_tarjetas[column].describe())\n",
    "        print(\"\\n\")"
   ]
  },
  {
   "cell_type": "code",
   "execution_count": 414,
   "metadata": {},
   "outputs": [
    {
     "name": "stdout",
     "output_type": "stream",
     "text": [
      "estado_civil\n",
      "['CASADO' 'SOLTERO' 'DESCONOCIDO' 'DIVORCIADO']\n",
      "\n",
      "\n",
      "estado_cliente\n",
      "['ACTIVO' 'PASIVO']\n",
      "\n",
      "\n",
      "genero\n",
      "['M' 'F']\n",
      "\n",
      "\n",
      "nivel_educativo\n",
      "['UNIVERSITARIO_COMPLETO' 'SECUNDARIO_COMPLETO' 'DESCONOCIDO'\n",
      " 'UNIVERSITARIO_INCOMPLETO' 'POSGRADO_INCOMPLETO' 'POSGRADO_COMPLETO']\n",
      "\n",
      "\n",
      "nivel_tarjeta\n",
      "['Blue' 'Gold' 'Silver' 'Platinum']\n",
      "\n",
      "\n"
     ]
    }
   ],
   "source": [
    "#Consistencia de los datos categoricos\n",
    "for column in datos_tarjetas.select_dtypes(exclude=['number']):\n",
    "    if column != \"id_cliente\" :\n",
    "        print(column)\n",
    "        print(datos_tarjetas[column].unique())\n",
    "        print(\"\\n\")"
   ]
  },
  {
   "cell_type": "markdown",
   "metadata": {},
   "source": [
    "DATOS DE CREDITOS"
   ]
  },
  {
   "cell_type": "code",
   "execution_count": 415,
   "metadata": {},
   "outputs": [
    {
     "name": "stdout",
     "output_type": "stream",
     "text": [
      "Valores nulos en id_cliente: 0\n",
      "Valores nulos en edad: 0\n",
      "Valores nulos en importe_solicitado: 0\n",
      "Valores nulos en duracion_credito: 0\n",
      "Valores nulos en antiguedad_empleado: 337\n",
      "Valores nulos en situacion_vivienda: 0\n",
      "Valores nulos en ingresos: 0\n",
      "Valores nulos en objetivo_credito: 0\n",
      "Valores nulos en pct_ingreso: 0\n",
      "Valores nulos en tasa_interes: 912\n",
      "Valores nulos en estado_credito: 0\n",
      "Valores nulos en falta_pago: 0\n"
     ]
    }
   ],
   "source": [
    "#Valores faltantes\n",
    "for column in datos_creditos:\n",
    "    nulos_columna = datos_creditos[column].isnull().sum()\n",
    "    print(f\"Valores nulos en {column}: {nulos_columna}\")"
   ]
  },
  {
   "cell_type": "markdown",
   "metadata": {},
   "source": [
    "3% de valores nulos en antiguedad_empleado\n",
    "\n",
    "9% de valores nulos en tasa_interes"
   ]
  },
  {
   "cell_type": "code",
   "execution_count": 416,
   "metadata": {},
   "outputs": [
    {
     "name": "stdout",
     "output_type": "stream",
     "text": [
      "Porcentaje de valores nulos en antiguedad_empleado: 3.0\n",
      "Porcentaje de valores nulos en tasa_interes: 9.0\n"
     ]
    }
   ],
   "source": [
    "#Trabajando sobre datos nulos en la columna de antiguedad_empleado\n",
    "list_nulos = [\"antiguedad_empleado\", \"tasa_interes\"]\n",
    "for column in list_nulos:\n",
    "    nulos_columna = datos_creditos[column].isnull().sum()\n",
    "    porcentaje = round(nulos_columna/(datos_creditos.shape[0]),2)*100\n",
    "    print(f\"Porcentaje de valores nulos en {column}: {porcentaje}\")\n"
   ]
  },
  {
   "cell_type": "markdown",
   "metadata": {},
   "source": [
    "Datos duplicados: 0 %"
   ]
  },
  {
   "cell_type": "code",
   "execution_count": 417,
   "metadata": {},
   "outputs": [
    {
     "name": "stdout",
     "output_type": "stream",
     "text": [
      "Número de filas duplicadas en id_cliente: 0\n",
      "Número de filas duplicadas en edad: 0\n",
      "Número de filas duplicadas en importe_solicitado: 0\n",
      "Número de filas duplicadas en duracion_credito: 0\n",
      "Número de filas duplicadas en antiguedad_empleado: 0\n",
      "Número de filas duplicadas en situacion_vivienda: 0\n",
      "Número de filas duplicadas en ingresos: 0\n",
      "Número de filas duplicadas en objetivo_credito: 0\n",
      "Número de filas duplicadas en pct_ingreso: 0\n",
      "Número de filas duplicadas en tasa_interes: 0\n",
      "Número de filas duplicadas en estado_credito: 0\n",
      "Número de filas duplicadas en falta_pago: 0\n"
     ]
    }
   ],
   "source": [
    "#Valores duplicados\n",
    "for column in datos_creditos:\n",
    "    num_duplicados = datos_creditos.duplicated().sum()\n",
    "    print(f\"Número de filas duplicadas en {column}: {num_duplicados}\")"
   ]
  },
  {
   "cell_type": "code",
   "execution_count": 418,
   "metadata": {},
   "outputs": [
    {
     "name": "stdout",
     "output_type": "stream",
     "text": [
      "edad\n",
      "count    10127.000000\n",
      "mean        23.572726\n",
      "std          2.664686\n",
      "min         20.000000\n",
      "25%         22.000000\n",
      "50%         23.000000\n",
      "75%         25.000000\n",
      "max        144.000000\n",
      "Name: edad, dtype: float64\n",
      "\n",
      "\n",
      "importe_solicitado\n",
      "count    10127.000000\n",
      "mean      8138.733090\n",
      "std       5740.106782\n",
      "min        500.000000\n",
      "25%       4425.000000\n",
      "50%       6500.000000\n",
      "75%      10000.000000\n",
      "max      35000.000000\n",
      "Name: importe_solicitado, dtype: float64\n",
      "\n",
      "\n",
      "duracion_credito\n",
      "count    10127.000000\n",
      "mean         2.995556\n",
      "std          0.817230\n",
      "min          2.000000\n",
      "25%          2.000000\n",
      "50%          3.000000\n",
      "75%          4.000000\n",
      "max          4.000000\n",
      "Name: duracion_credito, dtype: float64\n",
      "\n",
      "\n",
      "antiguedad_empleado\n",
      "count    9790.000000\n",
      "mean        3.938509\n",
      "std         3.320165\n",
      "min         0.000000\n",
      "25%         2.000000\n",
      "50%         4.000000\n",
      "75%         6.000000\n",
      "max       123.000000\n",
      "Name: antiguedad_empleado, dtype: float64\n",
      "\n",
      "\n",
      "ingresos\n",
      "count     10127.000000\n",
      "mean      50381.897600\n",
      "std       28785.536935\n",
      "min        9600.000000\n",
      "25%       33600.000000\n",
      "50%       46000.000000\n",
      "75%       59790.500000\n",
      "max      500000.000000\n",
      "Name: ingresos, dtype: float64\n",
      "\n",
      "\n",
      "pct_ingreso\n",
      "count    10127.000000\n",
      "mean         0.177226\n",
      "std          0.109784\n",
      "min          0.010000\n",
      "25%          0.100000\n",
      "50%          0.150000\n",
      "75%          0.240000\n",
      "max          0.830000\n",
      "Name: pct_ingreso, dtype: float64\n",
      "\n",
      "\n",
      "tasa_interes\n",
      "count    9215.000000\n",
      "mean       10.979427\n",
      "std         3.204760\n",
      "min         5.420000\n",
      "25%         7.900000\n",
      "50%        10.990000\n",
      "75%        13.430000\n",
      "max        22.110000\n",
      "Name: tasa_interes, dtype: float64\n",
      "\n",
      "\n",
      "estado_credito\n",
      "count    10127.000000\n",
      "mean         0.246075\n",
      "std          0.430744\n",
      "min          0.000000\n",
      "25%          0.000000\n",
      "50%          0.000000\n",
      "75%          0.000000\n",
      "max          1.000000\n",
      "Name: estado_credito, dtype: float64\n",
      "\n",
      "\n"
     ]
    }
   ],
   "source": [
    "#Consistencia de los datos numéricos\n",
    "for column in datos_creditos.select_dtypes(include=['number']):\n",
    "    if column != \"id_cliente\" :\n",
    "        print(column)\n",
    "        print(datos_creditos[column].describe())\n",
    "        print(\"\\n\")"
   ]
  },
  {
   "cell_type": "code",
   "execution_count": 419,
   "metadata": {},
   "outputs": [
    {
     "data": {
      "text/html": [
       "<div>\n",
       "<style scoped>\n",
       "    .dataframe tbody tr th:only-of-type {\n",
       "        vertical-align: middle;\n",
       "    }\n",
       "\n",
       "    .dataframe tbody tr th {\n",
       "        vertical-align: top;\n",
       "    }\n",
       "\n",
       "    .dataframe thead th {\n",
       "        text-align: right;\n",
       "    }\n",
       "</style>\n",
       "<table border=\"1\" class=\"dataframe\">\n",
       "  <thead>\n",
       "    <tr style=\"text-align: right;\">\n",
       "      <th></th>\n",
       "      <th>id_cliente</th>\n",
       "      <th>edad</th>\n",
       "      <th>importe_solicitado</th>\n",
       "      <th>duracion_credito</th>\n",
       "      <th>antiguedad_empleado</th>\n",
       "      <th>situacion_vivienda</th>\n",
       "      <th>ingresos</th>\n",
       "      <th>objetivo_credito</th>\n",
       "      <th>pct_ingreso</th>\n",
       "      <th>tasa_interes</th>\n",
       "      <th>estado_credito</th>\n",
       "      <th>falta_pago</th>\n",
       "    </tr>\n",
       "  </thead>\n",
       "  <tbody>\n",
       "    <tr>\n",
       "      <th>81</th>\n",
       "      <td>715623483.0</td>\n",
       "      <td>144</td>\n",
       "      <td>4800</td>\n",
       "      <td>3</td>\n",
       "      <td>4.0</td>\n",
       "      <td>ALQUILER</td>\n",
       "      <td>250000</td>\n",
       "      <td>INVERSIONES</td>\n",
       "      <td>0.02</td>\n",
       "      <td>13.57</td>\n",
       "      <td>0</td>\n",
       "      <td>N</td>\n",
       "    </tr>\n",
       "    <tr>\n",
       "      <th>183</th>\n",
       "      <td>815500983.0</td>\n",
       "      <td>144</td>\n",
       "      <td>6000</td>\n",
       "      <td>2</td>\n",
       "      <td>4.0</td>\n",
       "      <td>HIPOTECA</td>\n",
       "      <td>200000</td>\n",
       "      <td>EDUCACIÓN</td>\n",
       "      <td>0.03</td>\n",
       "      <td>11.86</td>\n",
       "      <td>0</td>\n",
       "      <td>N</td>\n",
       "    </tr>\n",
       "    <tr>\n",
       "      <th>575</th>\n",
       "      <td>717956283.0</td>\n",
       "      <td>123</td>\n",
       "      <td>20400</td>\n",
       "      <td>3</td>\n",
       "      <td>2.0</td>\n",
       "      <td>ALQUILER</td>\n",
       "      <td>80004</td>\n",
       "      <td>EDUCACIÓN</td>\n",
       "      <td>0.25</td>\n",
       "      <td>10.25</td>\n",
       "      <td>0</td>\n",
       "      <td>N</td>\n",
       "    </tr>\n",
       "    <tr>\n",
       "      <th>747</th>\n",
       "      <td>712881483.0</td>\n",
       "      <td>123</td>\n",
       "      <td>20000</td>\n",
       "      <td>4</td>\n",
       "      <td>7.0</td>\n",
       "      <td>ALQUILER</td>\n",
       "      <td>78000</td>\n",
       "      <td>INVERSIONES</td>\n",
       "      <td>0.26</td>\n",
       "      <td>NaN</td>\n",
       "      <td>0</td>\n",
       "      <td>N</td>\n",
       "    </tr>\n",
       "  </tbody>\n",
       "</table>\n",
       "</div>"
      ],
      "text/plain": [
       "      id_cliente  edad  importe_solicitado  duracion_credito  \\\n",
       "81   715623483.0   144                4800                 3   \n",
       "183  815500983.0   144                6000                 2   \n",
       "575  717956283.0   123               20400                 3   \n",
       "747  712881483.0   123               20000                 4   \n",
       "\n",
       "     antiguedad_empleado situacion_vivienda  ingresos objetivo_credito  \\\n",
       "81                   4.0           ALQUILER    250000      INVERSIONES   \n",
       "183                  4.0           HIPOTECA    200000        EDUCACIÓN   \n",
       "575                  2.0           ALQUILER     80004        EDUCACIÓN   \n",
       "747                  7.0           ALQUILER     78000      INVERSIONES   \n",
       "\n",
       "     pct_ingreso  tasa_interes  estado_credito falta_pago  \n",
       "81          0.02         13.57               0          N  \n",
       "183         0.03         11.86               0          N  \n",
       "575         0.25         10.25               0          N  \n",
       "747         0.26           NaN               0          N  "
      ]
     },
     "execution_count": 419,
     "metadata": {},
     "output_type": "execute_result"
    }
   ],
   "source": [
    "#Se observan datos inconsistentes en las columnas de edad y de antiguedad superando valores de los 100 años\n",
    "datos_creditos[datos_creditos[\"edad\"] > 100]"
   ]
  },
  {
   "cell_type": "code",
   "execution_count": 420,
   "metadata": {},
   "outputs": [
    {
     "data": {
      "text/plain": [
       "<Axes: >"
      ]
     },
     "execution_count": 420,
     "metadata": {},
     "output_type": "execute_result"
    },
    {
     "data": {
      "image/png": "[encoded data removed]",
      "text/plain": [
       "<Figure size 640x480 with 1 Axes>"
      ]
     },
     "metadata": {},
     "output_type": "display_data"
    }
   ],
   "source": [
    "sns.boxplot(datos_creditos[\"edad\"])"
   ]
  },
  {
   "cell_type": "code",
   "execution_count": 421,
   "metadata": {},
   "outputs": [
    {
     "data": {
      "text/plain": [
       "<Axes: >"
      ]
     },
     "execution_count": 421,
     "metadata": {},
     "output_type": "execute_result"
    },
    {
     "data": {
      "image/png": "[encoded data removed]",
      "text/plain": [
       "<Figure size 640x480 with 1 Axes>"
      ]
     },
     "metadata": {},
     "output_type": "display_data"
    }
   ],
   "source": [
    "#Se observa un valor de 500000 de ingresos, por lo que se va a visualizar la distribución por medio de un grafico boxplot\n",
    "\n",
    "sns.boxplot(datos_creditos[\"ingresos\"])"
   ]
  },
  {
   "cell_type": "code",
   "execution_count": 422,
   "metadata": {},
   "outputs": [
    {
     "data": {
      "text/html": [
       "<div>\n",
       "<style scoped>\n",
       "    .dataframe tbody tr th:only-of-type {\n",
       "        vertical-align: middle;\n",
       "    }\n",
       "\n",
       "    .dataframe tbody tr th {\n",
       "        vertical-align: top;\n",
       "    }\n",
       "\n",
       "    .dataframe thead th {\n",
       "        text-align: right;\n",
       "    }\n",
       "</style>\n",
       "<table border=\"1\" class=\"dataframe\">\n",
       "  <thead>\n",
       "    <tr style=\"text-align: right;\">\n",
       "      <th></th>\n",
       "      <th>id_cliente</th>\n",
       "      <th>edad</th>\n",
       "      <th>importe_solicitado</th>\n",
       "      <th>duracion_credito</th>\n",
       "      <th>antiguedad_empleado</th>\n",
       "      <th>situacion_vivienda</th>\n",
       "      <th>ingresos</th>\n",
       "      <th>objetivo_credito</th>\n",
       "      <th>pct_ingreso</th>\n",
       "      <th>tasa_interes</th>\n",
       "      <th>estado_credito</th>\n",
       "      <th>falta_pago</th>\n",
       "    </tr>\n",
       "  </thead>\n",
       "  <tbody>\n",
       "    <tr>\n",
       "      <th>15</th>\n",
       "      <td>714885258.0</td>\n",
       "      <td>23</td>\n",
       "      <td>30000</td>\n",
       "      <td>3</td>\n",
       "      <td>7.0</td>\n",
       "      <td>HIPOTECA</td>\n",
       "      <td>500000</td>\n",
       "      <td>PAGO_DEUDAS</td>\n",
       "      <td>0.06</td>\n",
       "      <td>10.65</td>\n",
       "      <td>0</td>\n",
       "      <td>N</td>\n",
       "    </tr>\n",
       "  </tbody>\n",
       "</table>\n",
       "</div>"
      ],
      "text/plain": [
       "     id_cliente  edad  importe_solicitado  duracion_credito  \\\n",
       "15  714885258.0    23               30000                 3   \n",
       "\n",
       "    antiguedad_empleado situacion_vivienda  ingresos objetivo_credito  \\\n",
       "15                  7.0           HIPOTECA    500000      PAGO_DEUDAS   \n",
       "\n",
       "    pct_ingreso  tasa_interes  estado_credito falta_pago  \n",
       "15         0.06         10.65               0          N  "
      ]
     },
     "execution_count": 422,
     "metadata": {},
     "output_type": "execute_result"
    }
   ],
   "source": [
    "datos_creditos[datos_creditos[\"ingresos\"] > 350000]"
   ]
  },
  {
   "cell_type": "code",
   "execution_count": 423,
   "metadata": {},
   "outputs": [
    {
     "name": "stdout",
     "output_type": "stream",
     "text": [
      "situacion_vivienda\n",
      "['ALQUILER' 'PROPIA' 'HIPOTECA' 'OTROS']\n",
      "\n",
      "\n",
      "objetivo_credito\n",
      "['PERSONAL' 'EDUCACIÓN' 'SALUD' 'INVERSIONES' 'MEJORAS_HOGAR'\n",
      " 'PAGO_DEUDAS']\n",
      "\n",
      "\n",
      "falta_pago\n",
      "['Y' 'N']\n",
      "\n",
      "\n"
     ]
    }
   ],
   "source": [
    "#Consistencia de los datos categoricos\n",
    "for column in datos_creditos.select_dtypes(exclude=['number']):\n",
    "    if column != \"id_cliente\" :\n",
    "        print(column)\n",
    "        print(datos_creditos[column].unique())\n",
    "        print(\"\\n\")"
   ]
  },
  {
   "cell_type": "markdown",
   "metadata": {},
   "source": [
    "DATOS NUEVOS"
   ]
  },
  {
   "cell_type": "code",
   "execution_count": 424,
   "metadata": {},
   "outputs": [
    {
     "name": "stdout",
     "output_type": "stream",
     "text": [
      "Valores nulos en id_cliente: 0\n",
      "Valores nulos en edad: 0\n",
      "Valores nulos en importe_solicitado: 0\n",
      "Valores nulos en duracion_credito: 0\n",
      "Valores nulos en antiguedad_empleado: 0\n",
      "Valores nulos en situacion_vivienda: 0\n",
      "Valores nulos en ingresos: 0\n",
      "Valores nulos en objetivo_credito: 0\n",
      "Valores nulos en pct_ingreso: 0\n",
      "Valores nulos en tasa_interes: 5\n",
      "Valores nulos en estado_credito: 0\n",
      "Valores nulos en antiguedad_cliente: 0\n",
      "Valores nulos en estado_civil: 0\n",
      "Valores nulos en estado_cliente: 0\n",
      "Valores nulos en gastos_ult_12m: 0\n",
      "Valores nulos en genero: 0\n",
      "Valores nulos en limite_credito_tc: 0\n",
      "Valores nulos en nivel_educativo: 0\n",
      "Valores nulos en nivel_tarjeta: 0\n",
      "Valores nulos en operaciones_ult_12m: 0\n",
      "Valores nulos en personas_a_cargo: 0\n"
     ]
    }
   ],
   "source": [
    "#Valores faltantes\n",
    "for column in datos_nuevos:\n",
    "    nulos_columna = datos_nuevos[column].isnull().sum()\n",
    "    print(f\"Valores nulos en {column}: {nulos_columna}\")"
   ]
  },
  {
   "cell_type": "code",
   "execution_count": 425,
   "metadata": {},
   "outputs": [
    {
     "name": "stdout",
     "output_type": "stream",
     "text": [
      "Porcentaje de valores nulos en tasa_interes: 4.0\n"
     ]
    }
   ],
   "source": [
    "list_nulos = [\"tasa_interes\"]\n",
    "for column in list_nulos:\n",
    "    nulos_columna = datos_nuevos[column].isnull().sum()\n",
    "    porcentaje = round(nulos_columna/(datos_nuevos.shape[0]),2)*100\n",
    "    print(f\"Porcentaje de valores nulos en {column}: {porcentaje}\")"
   ]
  },
  {
   "cell_type": "markdown",
   "metadata": {},
   "source": [
    "Clasificar problemas:\n",
    "\n",
    "- Urgentes: Impactan directamente análisis o decisiones (duplicados, errores críticos).\n",
    "\n",
    "    Datos nulos\n",
    "    Transformación de tipo de datos\n",
    "\n",
    "- Importantes: Reducen la efectividad de procesos secundarios (falta de valores no obligatorios).\n",
    "\n",
    "    Datos fuera de rango. (edad)\n",
    "\n",
    "- Menores: Problemas que no afectan operaciones inmediatas."
   ]
  },
  {
   "cell_type": "markdown",
   "metadata": {},
   "source": [
    "**PREPARACIÓN DE LOS DATOS**\n"
   ]
  },
  {
   "cell_type": "markdown",
   "metadata": {},
   "source": [
    "Selección de datos"
   ]
  },
  {
   "cell_type": "markdown",
   "metadata": {},
   "source": [
    "Datos fuera de rango establecido"
   ]
  },
  {
   "cell_type": "markdown",
   "metadata": {},
   "source": [
    "Eliminación de datos de edad mayores a 60 años.\n",
    "\n",
    "Estos datos no serán considerados por que los datos de edad son anomalos, y comparando los datos de edad con los datos de edad empleado no mantienen correlación."
   ]
  },
  {
   "cell_type": "code",
   "execution_count": 426,
   "metadata": {},
   "outputs": [],
   "source": [
    "#Se agrega filtro para no considerar edades mayores a 60 años en el análisis\n",
    "datos_creditos = datos_creditos[datos_creditos['edad'] < 60]"
   ]
  },
  {
   "cell_type": "markdown",
   "metadata": {},
   "source": [
    "A pesar de que el valor de 500000 de ingreso es el unico que sobresale del dataset de las tarjetas de créditos se va a mantener, porque se puede dar el caso en el que el cliente tenga buenas posibilidades económicas"
   ]
  },
  {
   "cell_type": "markdown",
   "metadata": {},
   "source": [
    "Limpieza de datos\n",
    "\n",
    "Corregir valores inválidos y remover duplicados."
   ]
  },
  {
   "cell_type": "markdown",
   "metadata": {},
   "source": [
    "Transformación de tipo de datos"
   ]
  },
  {
   "cell_type": "code",
   "execution_count": 427,
   "metadata": {},
   "outputs": [],
   "source": [
    "#El id de cliente se encuentra almacenado en formato float, por lo que se optara por convertir los datos en enteros.\n",
    "datos_tarjetas[\"id_cliente\"] = datos_tarjetas[\"id_cliente\"].astype(\"int64\")\n",
    "#operaciones_ult_12me se encuentra almacenado en formato float, por lo que se optara por convertir los datos en enteros.\n",
    "datos_tarjetas[\"operaciones_ult_12m\"] = datos_tarjetas[\"operaciones_ult_12m\"].astype(\"int64\")\n",
    "#personas_a_cargo se encuentra almacenado en formato float, por lo que se optara por convertir los datos en enteros.\n",
    "datos_tarjetas[\"personas_a_cargo\"] = datos_tarjetas[\"personas_a_cargo\"].astype(\"int64\")"
   ]
  },
  {
   "cell_type": "markdown",
   "metadata": {},
   "source": [
    "DATOS DE CREDITOS"
   ]
  },
  {
   "cell_type": "markdown",
   "metadata": {},
   "source": [
    "Eliminación de valores nulos"
   ]
  },
  {
   "cell_type": "code",
   "execution_count": 428,
   "metadata": {},
   "outputs": [
    {
     "name": "stdout",
     "output_type": "stream",
     "text": [
      "Porcentaje de valores nulos en tasa_interes: 0.0\n"
     ]
    }
   ],
   "source": [
    "#Se van a eliminar las filas con valores nulos.\n",
    "\n",
    "datos_creditos = datos_creditos.dropna(axis = 0)\n",
    "\n",
    "list_nulos = [\"tasa_interes\"]\n",
    "for column in list_nulos:\n",
    "    nulos_columna = datos_creditos[column].isnull().sum()\n",
    "    porcentaje = round(nulos_columna/(datos_creditos.shape[0]),2) * 100\n",
    "    print(f\"Porcentaje de valores nulos en {column}: {porcentaje}\")"
   ]
  },
  {
   "cell_type": "markdown",
   "metadata": {},
   "source": [
    "Transformación de tipos de datos"
   ]
  },
  {
   "cell_type": "code",
   "execution_count": 429,
   "metadata": {},
   "outputs": [],
   "source": [
    "#El id de cliente se encuentra almacenado en formato float, por lo que se optara por convertir los datos en enteros.\n",
    "datos_creditos[\"id_cliente\"] = datos_creditos[\"id_cliente\"].astype(\"int64\")"
   ]
  },
  {
   "cell_type": "markdown",
   "metadata": {},
   "source": [
    "DATOS NUEVOS"
   ]
  },
  {
   "cell_type": "markdown",
   "metadata": {},
   "source": [
    "Eliminando valores nulos"
   ]
  },
  {
   "cell_type": "code",
   "execution_count": 430,
   "metadata": {},
   "outputs": [
    {
     "name": "stdout",
     "output_type": "stream",
     "text": [
      "Porcentaje de valores nulos en tasa_interes: 0.0\n"
     ]
    }
   ],
   "source": [
    "#Se van a eliminar las filas con valores nulos.\n",
    "datos_nuevos = datos_nuevos.dropna(axis = 0)\n",
    "\n",
    "list_nulos = [\"tasa_interes\"]\n",
    "for column in list_nulos:\n",
    "    nulos_columna = datos_nuevos[column].isnull().sum()\n",
    "    porcentaje = round(nulos_columna/(datos_nuevos.shape[0]),2)*100\n",
    "    print(f\"Porcentaje de valores nulos en {column}: {porcentaje}\")"
   ]
  },
  {
   "cell_type": "markdown",
   "metadata": {},
   "source": [
    "**INTEGRACIÓN DE DATOS**"
   ]
  },
  {
   "cell_type": "code",
   "execution_count": 431,
   "metadata": {},
   "outputs": [
    {
     "name": "stdout",
     "output_type": "stream",
     "text": [
      "<class 'pandas.core.frame.DataFrame'>\n",
      "RangeIndex: 10127 entries, 0 to 10126\n",
      "Data columns (total 11 columns):\n",
      " #   Column               Non-Null Count  Dtype  \n",
      "---  ------               --------------  -----  \n",
      " 0   id_cliente           10127 non-null  int64  \n",
      " 1   antiguedad_cliente   10127 non-null  float64\n",
      " 2   estado_civil         10127 non-null  object \n",
      " 3   estado_cliente       10127 non-null  object \n",
      " 4   gastos_ult_12m       10127 non-null  float64\n",
      " 5   genero               10127 non-null  object \n",
      " 6   limite_credito_tc    10127 non-null  float64\n",
      " 7   nivel_educativo      10127 non-null  object \n",
      " 8   nivel_tarjeta        10127 non-null  object \n",
      " 9   operaciones_ult_12m  10127 non-null  int64  \n",
      " 10  personas_a_cargo     10127 non-null  int64  \n",
      "dtypes: float64(3), int64(3), object(5)\n",
      "memory usage: 870.4+ KB\n"
     ]
    }
   ],
   "source": [
    "datos_tarjetas.info()"
   ]
  },
  {
   "cell_type": "code",
   "execution_count": 432,
   "metadata": {},
   "outputs": [
    {
     "name": "stdout",
     "output_type": "stream",
     "text": [
      "<class 'pandas.core.frame.DataFrame'>\n",
      "Index: 8899 entries, 0 to 10126\n",
      "Data columns (total 12 columns):\n",
      " #   Column               Non-Null Count  Dtype  \n",
      "---  ------               --------------  -----  \n",
      " 0   id_cliente           8899 non-null   int64  \n",
      " 1   edad                 8899 non-null   int64  \n",
      " 2   importe_solicitado   8899 non-null   int64  \n",
      " 3   duracion_credito     8899 non-null   int64  \n",
      " 4   antiguedad_empleado  8899 non-null   float64\n",
      " 5   situacion_vivienda   8899 non-null   object \n",
      " 6   ingresos             8899 non-null   int64  \n",
      " 7   objetivo_credito     8899 non-null   object \n",
      " 8   pct_ingreso          8899 non-null   float64\n",
      " 9   tasa_interes         8899 non-null   float64\n",
      " 10  estado_credito       8899 non-null   int64  \n",
      " 11  falta_pago           8899 non-null   object \n",
      "dtypes: float64(3), int64(6), object(3)\n",
      "memory usage: 903.8+ KB\n"
     ]
    }
   ],
   "source": [
    "datos_creditos.info()"
   ]
  },
  {
   "cell_type": "code",
   "execution_count": 433,
   "metadata": {},
   "outputs": [
    {
     "name": "stdout",
     "output_type": "stream",
     "text": [
      "<class 'pandas.core.frame.DataFrame'>\n",
      "Index: 107 entries, 0 to 111\n",
      "Data columns (total 21 columns):\n",
      " #   Column               Non-Null Count  Dtype  \n",
      "---  ------               --------------  -----  \n",
      " 0   id_cliente           107 non-null    int64  \n",
      " 1   edad                 107 non-null    int64  \n",
      " 2   importe_solicitado   107 non-null    int64  \n",
      " 3   duracion_credito     107 non-null    int64  \n",
      " 4   antiguedad_empleado  107 non-null    float64\n",
      " 5   situacion_vivienda   107 non-null    object \n",
      " 6   ingresos             107 non-null    int64  \n",
      " 7   objetivo_credito     107 non-null    object \n",
      " 8   pct_ingreso          107 non-null    float64\n",
      " 9   tasa_interes         107 non-null    float64\n",
      " 10  estado_credito       107 non-null    int64  \n",
      " 11  antiguedad_cliente   107 non-null    int64  \n",
      " 12  estado_civil         107 non-null    object \n",
      " 13  estado_cliente       107 non-null    object \n",
      " 14  gastos_ult_12m       107 non-null    float64\n",
      " 15  genero               107 non-null    object \n",
      " 16  limite_credito_tc    107 non-null    float64\n",
      " 17  nivel_educativo      107 non-null    object \n",
      " 18  nivel_tarjeta        107 non-null    object \n",
      " 19  operaciones_ult_12m  107 non-null    float64\n",
      " 20  personas_a_cargo     107 non-null    float64\n",
      "dtypes: float64(7), int64(7), object(7)\n",
      "memory usage: 18.4+ KB\n"
     ]
    }
   ],
   "source": [
    "datos_nuevos.info()"
   ]
  },
  {
   "cell_type": "code",
   "execution_count": 434,
   "metadata": {},
   "outputs": [],
   "source": [
    "datos_analisis = pd.merge( datos_tarjetas, datos_creditos, on='id_cliente', how='left')"
   ]
  },
  {
   "cell_type": "code",
   "execution_count": 435,
   "metadata": {},
   "outputs": [
    {
     "name": "stdout",
     "output_type": "stream",
     "text": [
      "<class 'pandas.core.frame.DataFrame'>\n",
      "RangeIndex: 10127 entries, 0 to 10126\n",
      "Data columns (total 22 columns):\n",
      " #   Column               Non-Null Count  Dtype  \n",
      "---  ------               --------------  -----  \n",
      " 0   id_cliente           10127 non-null  int64  \n",
      " 1   antiguedad_cliente   10127 non-null  float64\n",
      " 2   estado_civil         10127 non-null  object \n",
      " 3   estado_cliente       10127 non-null  object \n",
      " 4   gastos_ult_12m       10127 non-null  float64\n",
      " 5   genero               10127 non-null  object \n",
      " 6   limite_credito_tc    10127 non-null  float64\n",
      " 7   nivel_educativo      10127 non-null  object \n",
      " 8   nivel_tarjeta        10127 non-null  object \n",
      " 9   operaciones_ult_12m  10127 non-null  int64  \n",
      " 10  personas_a_cargo     10127 non-null  int64  \n",
      " 11  edad                 8899 non-null   float64\n",
      " 12  importe_solicitado   8899 non-null   float64\n",
      " 13  duracion_credito     8899 non-null   float64\n",
      " 14  antiguedad_empleado  8899 non-null   float64\n",
      " 15  situacion_vivienda   8899 non-null   object \n",
      " 16  ingresos             8899 non-null   float64\n",
      " 17  objetivo_credito     8899 non-null   object \n",
      " 18  pct_ingreso          8899 non-null   float64\n",
      " 19  tasa_interes         8899 non-null   float64\n",
      " 20  estado_credito       8899 non-null   float64\n",
      " 21  falta_pago           8899 non-null   object \n",
      "dtypes: float64(11), int64(3), object(8)\n",
      "memory usage: 1.7+ MB\n"
     ]
    }
   ],
   "source": [
    "datos_analisis.info()"
   ]
  },
  {
   "cell_type": "code",
   "execution_count": 436,
   "metadata": {},
   "outputs": [],
   "source": [
    "datos_analisis = datos_analisis.dropna(axis = 0)\n"
   ]
  },
  {
   "cell_type": "markdown",
   "metadata": {},
   "source": [
    "DATASETS PROCESADOS"
   ]
  },
  {
   "cell_type": "code",
   "execution_count": 437,
   "metadata": {},
   "outputs": [
    {
     "name": "stdout",
     "output_type": "stream",
     "text": [
      "<class 'pandas.core.frame.DataFrame'>\n",
      "Index: 8899 entries, 0 to 10126\n",
      "Data columns (total 22 columns):\n",
      " #   Column               Non-Null Count  Dtype  \n",
      "---  ------               --------------  -----  \n",
      " 0   id_cliente           8899 non-null   int64  \n",
      " 1   antiguedad_cliente   8899 non-null   float64\n",
      " 2   estado_civil         8899 non-null   object \n",
      " 3   estado_cliente       8899 non-null   object \n",
      " 4   gastos_ult_12m       8899 non-null   float64\n",
      " 5   genero               8899 non-null   object \n",
      " 6   limite_credito_tc    8899 non-null   float64\n",
      " 7   nivel_educativo      8899 non-null   object \n",
      " 8   nivel_tarjeta        8899 non-null   object \n",
      " 9   operaciones_ult_12m  8899 non-null   int64  \n",
      " 10  personas_a_cargo     8899 non-null   int64  \n",
      " 11  edad                 8899 non-null   float64\n",
      " 12  importe_solicitado   8899 non-null   float64\n",
      " 13  duracion_credito     8899 non-null   float64\n",
      " 14  antiguedad_empleado  8899 non-null   float64\n",
      " 15  situacion_vivienda   8899 non-null   object \n",
      " 16  ingresos             8899 non-null   float64\n",
      " 17  objetivo_credito     8899 non-null   object \n",
      " 18  pct_ingreso          8899 non-null   float64\n",
      " 19  tasa_interes         8899 non-null   float64\n",
      " 20  estado_credito       8899 non-null   float64\n",
      " 21  falta_pago           8899 non-null   object \n",
      "dtypes: float64(11), int64(3), object(8)\n",
      "memory usage: 1.6+ MB\n"
     ]
    }
   ],
   "source": [
    "datos_analisis.info()"
   ]
  },
  {
   "cell_type": "code",
   "execution_count": 438,
   "metadata": {},
   "outputs": [
    {
     "name": "stdout",
     "output_type": "stream",
     "text": [
      "<class 'pandas.core.frame.DataFrame'>\n",
      "Index: 107 entries, 0 to 111\n",
      "Data columns (total 21 columns):\n",
      " #   Column               Non-Null Count  Dtype  \n",
      "---  ------               --------------  -----  \n",
      " 0   id_cliente           107 non-null    int64  \n",
      " 1   edad                 107 non-null    int64  \n",
      " 2   importe_solicitado   107 non-null    int64  \n",
      " 3   duracion_credito     107 non-null    int64  \n",
      " 4   antiguedad_empleado  107 non-null    float64\n",
      " 5   situacion_vivienda   107 non-null    object \n",
      " 6   ingresos             107 non-null    int64  \n",
      " 7   objetivo_credito     107 non-null    object \n",
      " 8   pct_ingreso          107 non-null    float64\n",
      " 9   tasa_interes         107 non-null    float64\n",
      " 10  estado_credito       107 non-null    int64  \n",
      " 11  antiguedad_cliente   107 non-null    int64  \n",
      " 12  estado_civil         107 non-null    object \n",
      " 13  estado_cliente       107 non-null    object \n",
      " 14  gastos_ult_12m       107 non-null    float64\n",
      " 15  genero               107 non-null    object \n",
      " 16  limite_credito_tc    107 non-null    float64\n",
      " 17  nivel_educativo      107 non-null    object \n",
      " 18  nivel_tarjeta        107 non-null    object \n",
      " 19  operaciones_ult_12m  107 non-null    float64\n",
      " 20  personas_a_cargo     107 non-null    float64\n",
      "dtypes: float64(7), int64(7), object(7)\n",
      "memory usage: 18.4+ KB\n"
     ]
    }
   ],
   "source": [
    "datos_nuevos.info()"
   ]
  },
  {
   "cell_type": "markdown",
   "metadata": {},
   "source": [
    "CONSTRUCCION DE DATOS\n",
    "\n",
    "Se convertiran todos los datos a variables para el proceso de modelado"
   ]
  },
  {
   "cell_type": "code",
   "execution_count": 439,
   "metadata": {},
   "outputs": [],
   "source": [
    "from sklearn.preprocessing import LabelEncoder"
   ]
  },
  {
   "cell_type": "code",
   "execution_count": 440,
   "metadata": {},
   "outputs": [],
   "source": [
    "columns_to_label_encoder = [\"nivel_educativo\" , \"nivel_tarjeta\"]\n",
    "columns_to_Onehot_encoding = [\"estado_civil\", \"estado_cliente\",\"genero\",\"situacion_vivienda\",\"objetivo_credito\"]"
   ]
  },
  {
   "cell_type": "code",
   "execution_count": 441,
   "metadata": {},
   "outputs": [],
   "source": [
    "#Aplicación de labelEncoder y cambio a variables binaras para la columna objetivo\n",
    "\n",
    "label_encoder = LabelEncoder()\n",
    "\n",
    "for column in columns_to_label_encoder:\n",
    "    datos_analisis[column] = label_encoder.fit_transform(datos_analisis[column])\n",
    "\n",
    "datos_analisis['falta_pago'] = datos_analisis['falta_pago'].map({'N': 0, 'Y': 1})"
   ]
  },
  {
   "cell_type": "code",
   "execution_count": 442,
   "metadata": {},
   "outputs": [
    {
     "data": {
      "text/html": [
       "<div>\n",
       "<style scoped>\n",
       "    .dataframe tbody tr th:only-of-type {\n",
       "        vertical-align: middle;\n",
       "    }\n",
       "\n",
       "    .dataframe tbody tr th {\n",
       "        vertical-align: top;\n",
       "    }\n",
       "\n",
       "    .dataframe thead th {\n",
       "        text-align: right;\n",
       "    }\n",
       "</style>\n",
       "<table border=\"1\" class=\"dataframe\">\n",
       "  <thead>\n",
       "    <tr style=\"text-align: right;\">\n",
       "      <th></th>\n",
       "      <th>id_cliente</th>\n",
       "      <th>antiguedad_cliente</th>\n",
       "      <th>estado_civil</th>\n",
       "      <th>estado_cliente</th>\n",
       "      <th>gastos_ult_12m</th>\n",
       "      <th>genero</th>\n",
       "      <th>limite_credito_tc</th>\n",
       "      <th>nivel_educativo</th>\n",
       "      <th>nivel_tarjeta</th>\n",
       "      <th>operaciones_ult_12m</th>\n",
       "      <th>...</th>\n",
       "      <th>importe_solicitado</th>\n",
       "      <th>duracion_credito</th>\n",
       "      <th>antiguedad_empleado</th>\n",
       "      <th>situacion_vivienda</th>\n",
       "      <th>ingresos</th>\n",
       "      <th>objetivo_credito</th>\n",
       "      <th>pct_ingreso</th>\n",
       "      <th>tasa_interes</th>\n",
       "      <th>estado_credito</th>\n",
       "      <th>falta_pago</th>\n",
       "    </tr>\n",
       "  </thead>\n",
       "  <tbody>\n",
       "    <tr>\n",
       "      <th>0</th>\n",
       "      <td>713061558</td>\n",
       "      <td>36.0</td>\n",
       "      <td>CASADO</td>\n",
       "      <td>ACTIVO</td>\n",
       "      <td>1088.0</td>\n",
       "      <td>M</td>\n",
       "      <td>4010.0</td>\n",
       "      <td>4</td>\n",
       "      <td>0</td>\n",
       "      <td>24</td>\n",
       "      <td>...</td>\n",
       "      <td>35000.0</td>\n",
       "      <td>3.0</td>\n",
       "      <td>123.0</td>\n",
       "      <td>ALQUILER</td>\n",
       "      <td>59000.0</td>\n",
       "      <td>PERSONAL</td>\n",
       "      <td>0.59</td>\n",
       "      <td>16.02</td>\n",
       "      <td>1.0</td>\n",
       "      <td>1</td>\n",
       "    </tr>\n",
       "    <tr>\n",
       "      <th>1</th>\n",
       "      <td>768805383</td>\n",
       "      <td>39.0</td>\n",
       "      <td>CASADO</td>\n",
       "      <td>ACTIVO</td>\n",
       "      <td>1144.0</td>\n",
       "      <td>M</td>\n",
       "      <td>12691.0</td>\n",
       "      <td>3</td>\n",
       "      <td>0</td>\n",
       "      <td>42</td>\n",
       "      <td>...</td>\n",
       "      <td>1000.0</td>\n",
       "      <td>2.0</td>\n",
       "      <td>5.0</td>\n",
       "      <td>PROPIA</td>\n",
       "      <td>9600.0</td>\n",
       "      <td>EDUCACIÓN</td>\n",
       "      <td>0.10</td>\n",
       "      <td>11.14</td>\n",
       "      <td>0.0</td>\n",
       "      <td>0</td>\n",
       "    </tr>\n",
       "    <tr>\n",
       "      <th>2</th>\n",
       "      <td>818770008</td>\n",
       "      <td>44.0</td>\n",
       "      <td>SOLTERO</td>\n",
       "      <td>ACTIVO</td>\n",
       "      <td>1291.0</td>\n",
       "      <td>F</td>\n",
       "      <td>8256.0</td>\n",
       "      <td>4</td>\n",
       "      <td>0</td>\n",
       "      <td>33</td>\n",
       "      <td>...</td>\n",
       "      <td>5500.0</td>\n",
       "      <td>3.0</td>\n",
       "      <td>1.0</td>\n",
       "      <td>HIPOTECA</td>\n",
       "      <td>9600.0</td>\n",
       "      <td>SALUD</td>\n",
       "      <td>0.57</td>\n",
       "      <td>12.87</td>\n",
       "      <td>1.0</td>\n",
       "      <td>0</td>\n",
       "    </tr>\n",
       "    <tr>\n",
       "      <th>3</th>\n",
       "      <td>713982108</td>\n",
       "      <td>36.0</td>\n",
       "      <td>CASADO</td>\n",
       "      <td>ACTIVO</td>\n",
       "      <td>1887.0</td>\n",
       "      <td>M</td>\n",
       "      <td>3418.0</td>\n",
       "      <td>4</td>\n",
       "      <td>0</td>\n",
       "      <td>20</td>\n",
       "      <td>...</td>\n",
       "      <td>35000.0</td>\n",
       "      <td>2.0</td>\n",
       "      <td>4.0</td>\n",
       "      <td>ALQUILER</td>\n",
       "      <td>65500.0</td>\n",
       "      <td>SALUD</td>\n",
       "      <td>0.53</td>\n",
       "      <td>15.23</td>\n",
       "      <td>1.0</td>\n",
       "      <td>0</td>\n",
       "    </tr>\n",
       "    <tr>\n",
       "      <th>4</th>\n",
       "      <td>710821833</td>\n",
       "      <td>54.0</td>\n",
       "      <td>CASADO</td>\n",
       "      <td>ACTIVO</td>\n",
       "      <td>1314.0</td>\n",
       "      <td>M</td>\n",
       "      <td>9095.0</td>\n",
       "      <td>0</td>\n",
       "      <td>0</td>\n",
       "      <td>26</td>\n",
       "      <td>...</td>\n",
       "      <td>35000.0</td>\n",
       "      <td>4.0</td>\n",
       "      <td>8.0</td>\n",
       "      <td>ALQUILER</td>\n",
       "      <td>54400.0</td>\n",
       "      <td>SALUD</td>\n",
       "      <td>0.55</td>\n",
       "      <td>14.27</td>\n",
       "      <td>1.0</td>\n",
       "      <td>1</td>\n",
       "    </tr>\n",
       "  </tbody>\n",
       "</table>\n",
       "<p>5 rows × 22 columns</p>\n",
       "</div>"
      ],
      "text/plain": [
       "   id_cliente  antiguedad_cliente estado_civil estado_cliente  gastos_ult_12m  \\\n",
       "0   713061558                36.0       CASADO         ACTIVO          1088.0   \n",
       "1   768805383                39.0       CASADO         ACTIVO          1144.0   \n",
       "2   818770008                44.0      SOLTERO         ACTIVO          1291.0   \n",
       "3   713982108                36.0       CASADO         ACTIVO          1887.0   \n",
       "4   710821833                54.0       CASADO         ACTIVO          1314.0   \n",
       "\n",
       "  genero  limite_credito_tc  nivel_educativo  nivel_tarjeta  \\\n",
       "0      M             4010.0                4              0   \n",
       "1      M            12691.0                3              0   \n",
       "2      F             8256.0                4              0   \n",
       "3      M             3418.0                4              0   \n",
       "4      M             9095.0                0              0   \n",
       "\n",
       "   operaciones_ult_12m  ...  importe_solicitado  duracion_credito  \\\n",
       "0                   24  ...             35000.0               3.0   \n",
       "1                   42  ...              1000.0               2.0   \n",
       "2                   33  ...              5500.0               3.0   \n",
       "3                   20  ...             35000.0               2.0   \n",
       "4                   26  ...             35000.0               4.0   \n",
       "\n",
       "   antiguedad_empleado  situacion_vivienda  ingresos objetivo_credito  \\\n",
       "0                123.0            ALQUILER   59000.0         PERSONAL   \n",
       "1                  5.0              PROPIA    9600.0        EDUCACIÓN   \n",
       "2                  1.0            HIPOTECA    9600.0            SALUD   \n",
       "3                  4.0            ALQUILER   65500.0            SALUD   \n",
       "4                  8.0            ALQUILER   54400.0            SALUD   \n",
       "\n",
       "   pct_ingreso tasa_interes  estado_credito  falta_pago  \n",
       "0         0.59        16.02             1.0           1  \n",
       "1         0.10        11.14             0.0           0  \n",
       "2         0.57        12.87             1.0           0  \n",
       "3         0.53        15.23             1.0           0  \n",
       "4         0.55        14.27             1.0           1  \n",
       "\n",
       "[5 rows x 22 columns]"
      ]
     },
     "execution_count": 442,
     "metadata": {},
     "output_type": "execute_result"
    }
   ],
   "source": [
    "datos_analisis.head()"
   ]
  },
  {
   "cell_type": "code",
   "execution_count": 443,
   "metadata": {},
   "outputs": [
    {
     "data": {
      "text/html": [
       "<div>\n",
       "<style scoped>\n",
       "    .dataframe tbody tr th:only-of-type {\n",
       "        vertical-align: middle;\n",
       "    }\n",
       "\n",
       "    .dataframe tbody tr th {\n",
       "        vertical-align: top;\n",
       "    }\n",
       "\n",
       "    .dataframe thead th {\n",
       "        text-align: right;\n",
       "    }\n",
       "</style>\n",
       "<table border=\"1\" class=\"dataframe\">\n",
       "  <thead>\n",
       "    <tr style=\"text-align: right;\">\n",
       "      <th></th>\n",
       "      <th>id_cliente</th>\n",
       "      <th>antiguedad_cliente</th>\n",
       "      <th>gastos_ult_12m</th>\n",
       "      <th>limite_credito_tc</th>\n",
       "      <th>nivel_educativo</th>\n",
       "      <th>nivel_tarjeta</th>\n",
       "      <th>operaciones_ult_12m</th>\n",
       "      <th>personas_a_cargo</th>\n",
       "      <th>edad</th>\n",
       "      <th>importe_solicitado</th>\n",
       "      <th>...</th>\n",
       "      <th>estado_cliente_PASIVO</th>\n",
       "      <th>genero_M</th>\n",
       "      <th>situacion_vivienda_HIPOTECA</th>\n",
       "      <th>situacion_vivienda_OTROS</th>\n",
       "      <th>situacion_vivienda_PROPIA</th>\n",
       "      <th>objetivo_credito_INVERSIONES</th>\n",
       "      <th>objetivo_credito_MEJORAS_HOGAR</th>\n",
       "      <th>objetivo_credito_PAGO_DEUDAS</th>\n",
       "      <th>objetivo_credito_PERSONAL</th>\n",
       "      <th>objetivo_credito_SALUD</th>\n",
       "    </tr>\n",
       "  </thead>\n",
       "  <tbody>\n",
       "    <tr>\n",
       "      <th>0</th>\n",
       "      <td>713061558</td>\n",
       "      <td>36.0</td>\n",
       "      <td>1088.0</td>\n",
       "      <td>4010.0</td>\n",
       "      <td>4</td>\n",
       "      <td>0</td>\n",
       "      <td>24</td>\n",
       "      <td>2</td>\n",
       "      <td>22.0</td>\n",
       "      <td>35000.0</td>\n",
       "      <td>...</td>\n",
       "      <td>False</td>\n",
       "      <td>True</td>\n",
       "      <td>False</td>\n",
       "      <td>False</td>\n",
       "      <td>False</td>\n",
       "      <td>False</td>\n",
       "      <td>False</td>\n",
       "      <td>False</td>\n",
       "      <td>True</td>\n",
       "      <td>False</td>\n",
       "    </tr>\n",
       "    <tr>\n",
       "      <th>1</th>\n",
       "      <td>768805383</td>\n",
       "      <td>39.0</td>\n",
       "      <td>1144.0</td>\n",
       "      <td>12691.0</td>\n",
       "      <td>3</td>\n",
       "      <td>0</td>\n",
       "      <td>42</td>\n",
       "      <td>3</td>\n",
       "      <td>21.0</td>\n",
       "      <td>1000.0</td>\n",
       "      <td>...</td>\n",
       "      <td>False</td>\n",
       "      <td>True</td>\n",
       "      <td>False</td>\n",
       "      <td>False</td>\n",
       "      <td>True</td>\n",
       "      <td>False</td>\n",
       "      <td>False</td>\n",
       "      <td>False</td>\n",
       "      <td>False</td>\n",
       "      <td>False</td>\n",
       "    </tr>\n",
       "    <tr>\n",
       "      <th>2</th>\n",
       "      <td>818770008</td>\n",
       "      <td>44.0</td>\n",
       "      <td>1291.0</td>\n",
       "      <td>8256.0</td>\n",
       "      <td>4</td>\n",
       "      <td>0</td>\n",
       "      <td>33</td>\n",
       "      <td>5</td>\n",
       "      <td>25.0</td>\n",
       "      <td>5500.0</td>\n",
       "      <td>...</td>\n",
       "      <td>False</td>\n",
       "      <td>False</td>\n",
       "      <td>True</td>\n",
       "      <td>False</td>\n",
       "      <td>False</td>\n",
       "      <td>False</td>\n",
       "      <td>False</td>\n",
       "      <td>False</td>\n",
       "      <td>False</td>\n",
       "      <td>True</td>\n",
       "    </tr>\n",
       "    <tr>\n",
       "      <th>3</th>\n",
       "      <td>713982108</td>\n",
       "      <td>36.0</td>\n",
       "      <td>1887.0</td>\n",
       "      <td>3418.0</td>\n",
       "      <td>4</td>\n",
       "      <td>0</td>\n",
       "      <td>20</td>\n",
       "      <td>3</td>\n",
       "      <td>23.0</td>\n",
       "      <td>35000.0</td>\n",
       "      <td>...</td>\n",
       "      <td>False</td>\n",
       "      <td>True</td>\n",
       "      <td>False</td>\n",
       "      <td>False</td>\n",
       "      <td>False</td>\n",
       "      <td>False</td>\n",
       "      <td>False</td>\n",
       "      <td>False</td>\n",
       "      <td>False</td>\n",
       "      <td>True</td>\n",
       "    </tr>\n",
       "    <tr>\n",
       "      <th>4</th>\n",
       "      <td>710821833</td>\n",
       "      <td>54.0</td>\n",
       "      <td>1314.0</td>\n",
       "      <td>9095.0</td>\n",
       "      <td>0</td>\n",
       "      <td>0</td>\n",
       "      <td>26</td>\n",
       "      <td>1</td>\n",
       "      <td>24.0</td>\n",
       "      <td>35000.0</td>\n",
       "      <td>...</td>\n",
       "      <td>False</td>\n",
       "      <td>True</td>\n",
       "      <td>False</td>\n",
       "      <td>False</td>\n",
       "      <td>False</td>\n",
       "      <td>False</td>\n",
       "      <td>False</td>\n",
       "      <td>False</td>\n",
       "      <td>False</td>\n",
       "      <td>True</td>\n",
       "    </tr>\n",
       "  </tbody>\n",
       "</table>\n",
       "<p>5 rows × 30 columns</p>\n",
       "</div>"
      ],
      "text/plain": [
       "   id_cliente  antiguedad_cliente  gastos_ult_12m  limite_credito_tc  \\\n",
       "0   713061558                36.0          1088.0             4010.0   \n",
       "1   768805383                39.0          1144.0            12691.0   \n",
       "2   818770008                44.0          1291.0             8256.0   \n",
       "3   713982108                36.0          1887.0             3418.0   \n",
       "4   710821833                54.0          1314.0             9095.0   \n",
       "\n",
       "   nivel_educativo  nivel_tarjeta  operaciones_ult_12m  personas_a_cargo  \\\n",
       "0                4              0                   24                 2   \n",
       "1                3              0                   42                 3   \n",
       "2                4              0                   33                 5   \n",
       "3                4              0                   20                 3   \n",
       "4                0              0                   26                 1   \n",
       "\n",
       "   edad  importe_solicitado  ...  estado_cliente_PASIVO  genero_M  \\\n",
       "0  22.0             35000.0  ...                  False      True   \n",
       "1  21.0              1000.0  ...                  False      True   \n",
       "2  25.0              5500.0  ...                  False     False   \n",
       "3  23.0             35000.0  ...                  False      True   \n",
       "4  24.0             35000.0  ...                  False      True   \n",
       "\n",
       "   situacion_vivienda_HIPOTECA  situacion_vivienda_OTROS  \\\n",
       "0                        False                     False   \n",
       "1                        False                     False   \n",
       "2                         True                     False   \n",
       "3                        False                     False   \n",
       "4                        False                     False   \n",
       "\n",
       "   situacion_vivienda_PROPIA  objetivo_credito_INVERSIONES  \\\n",
       "0                      False                         False   \n",
       "1                       True                         False   \n",
       "2                      False                         False   \n",
       "3                      False                         False   \n",
       "4                      False                         False   \n",
       "\n",
       "   objetivo_credito_MEJORAS_HOGAR  objetivo_credito_PAGO_DEUDAS  \\\n",
       "0                           False                         False   \n",
       "1                           False                         False   \n",
       "2                           False                         False   \n",
       "3                           False                         False   \n",
       "4                           False                         False   \n",
       "\n",
       "   objetivo_credito_PERSONAL  objetivo_credito_SALUD  \n",
       "0                       True                   False  \n",
       "1                      False                   False  \n",
       "2                      False                    True  \n",
       "3                      False                    True  \n",
       "4                      False                    True  \n",
       "\n",
       "[5 rows x 30 columns]"
      ]
     },
     "execution_count": 443,
     "metadata": {},
     "output_type": "execute_result"
    }
   ],
   "source": [
    "datos_analisis = pd.get_dummies(datos_analisis, columns=columns_to_Onehot_encoding, drop_first=True)\n",
    "datos_analisis.head()"
   ]
  },
  {
   "cell_type": "code",
   "execution_count": 444,
   "metadata": {},
   "outputs": [
    {
     "name": "stdout",
     "output_type": "stream",
     "text": [
      "<class 'pandas.core.frame.DataFrame'>\n",
      "Index: 8899 entries, 0 to 10126\n",
      "Data columns (total 30 columns):\n",
      " #   Column                          Non-Null Count  Dtype  \n",
      "---  ------                          --------------  -----  \n",
      " 0   id_cliente                      8899 non-null   int64  \n",
      " 1   antiguedad_cliente              8899 non-null   float64\n",
      " 2   gastos_ult_12m                  8899 non-null   float64\n",
      " 3   limite_credito_tc               8899 non-null   float64\n",
      " 4   nivel_educativo                 8899 non-null   int32  \n",
      " 5   nivel_tarjeta                   8899 non-null   int32  \n",
      " 6   operaciones_ult_12m             8899 non-null   int64  \n",
      " 7   personas_a_cargo                8899 non-null   int64  \n",
      " 8   edad                            8899 non-null   float64\n",
      " 9   importe_solicitado              8899 non-null   float64\n",
      " 10  duracion_credito                8899 non-null   float64\n",
      " 11  antiguedad_empleado             8899 non-null   float64\n",
      " 12  ingresos                        8899 non-null   float64\n",
      " 13  pct_ingreso                     8899 non-null   float64\n",
      " 14  tasa_interes                    8899 non-null   float64\n",
      " 15  estado_credito                  8899 non-null   float64\n",
      " 16  falta_pago                      8899 non-null   int64  \n",
      " 17  estado_civil_DESCONOCIDO        8899 non-null   bool   \n",
      " 18  estado_civil_DIVORCIADO         8899 non-null   bool   \n",
      " 19  estado_civil_SOLTERO            8899 non-null   bool   \n",
      " 20  estado_cliente_PASIVO           8899 non-null   bool   \n",
      " 21  genero_M                        8899 non-null   bool   \n",
      " 22  situacion_vivienda_HIPOTECA     8899 non-null   bool   \n",
      " 23  situacion_vivienda_OTROS        8899 non-null   bool   \n",
      " 24  situacion_vivienda_PROPIA       8899 non-null   bool   \n",
      " 25  objetivo_credito_INVERSIONES    8899 non-null   bool   \n",
      " 26  objetivo_credito_MEJORAS_HOGAR  8899 non-null   bool   \n",
      " 27  objetivo_credito_PAGO_DEUDAS    8899 non-null   bool   \n",
      " 28  objetivo_credito_PERSONAL       8899 non-null   bool   \n",
      " 29  objetivo_credito_SALUD          8899 non-null   bool   \n",
      "dtypes: bool(13), float64(11), int32(2), int64(4)\n",
      "memory usage: 1.3 MB\n"
     ]
    }
   ],
   "source": [
    "datos_analisis.info()\n",
    "datos_originales_creditos = datos_analisis"
   ]
  },
  {
   "cell_type": "code",
   "execution_count": 445,
   "metadata": {},
   "outputs": [
    {
     "name": "stdout",
     "output_type": "stream",
     "text": [
      "<class 'pandas.core.frame.DataFrame'>\n",
      "Index: 8899 entries, 0 to 10126\n",
      "Data columns (total 29 columns):\n",
      " #   Column                          Non-Null Count  Dtype  \n",
      "---  ------                          --------------  -----  \n",
      " 0   antiguedad_cliente              8899 non-null   float64\n",
      " 1   gastos_ult_12m                  8899 non-null   float64\n",
      " 2   limite_credito_tc               8899 non-null   float64\n",
      " 3   nivel_educativo                 8899 non-null   int32  \n",
      " 4   nivel_tarjeta                   8899 non-null   int32  \n",
      " 5   operaciones_ult_12m             8899 non-null   int64  \n",
      " 6   personas_a_cargo                8899 non-null   int64  \n",
      " 7   edad                            8899 non-null   float64\n",
      " 8   importe_solicitado              8899 non-null   float64\n",
      " 9   duracion_credito                8899 non-null   float64\n",
      " 10  antiguedad_empleado             8899 non-null   float64\n",
      " 11  ingresos                        8899 non-null   float64\n",
      " 12  pct_ingreso                     8899 non-null   float64\n",
      " 13  tasa_interes                    8899 non-null   float64\n",
      " 14  estado_credito                  8899 non-null   float64\n",
      " 15  falta_pago                      8899 non-null   int64  \n",
      " 16  estado_civil_DESCONOCIDO        8899 non-null   bool   \n",
      " 17  estado_civil_DIVORCIADO         8899 non-null   bool   \n",
      " 18  estado_civil_SOLTERO            8899 non-null   bool   \n",
      " 19  estado_cliente_PASIVO           8899 non-null   bool   \n",
      " 20  genero_M                        8899 non-null   bool   \n",
      " 21  situacion_vivienda_HIPOTECA     8899 non-null   bool   \n",
      " 22  situacion_vivienda_OTROS        8899 non-null   bool   \n",
      " 23  situacion_vivienda_PROPIA       8899 non-null   bool   \n",
      " 24  objetivo_credito_INVERSIONES    8899 non-null   bool   \n",
      " 25  objetivo_credito_MEJORAS_HOGAR  8899 non-null   bool   \n",
      " 26  objetivo_credito_PAGO_DEUDAS    8899 non-null   bool   \n",
      " 27  objetivo_credito_PERSONAL       8899 non-null   bool   \n",
      " 28  objetivo_credito_SALUD          8899 non-null   bool   \n",
      "dtypes: bool(13), float64(11), int32(2), int64(3)\n",
      "memory usage: 1.2 MB\n"
     ]
    }
   ],
   "source": [
    "#Se elimina columna ID\n",
    "datos_analisis.drop(columns= [\"id_cliente\"], inplace=True)\n",
    "datos_analisis.info()"
   ]
  },
  {
   "cell_type": "code",
   "execution_count": 446,
   "metadata": {},
   "outputs": [
    {
     "data": {
      "text/plain": [
       "Index(['antiguedad_cliente', 'gastos_ult_12m', 'limite_credito_tc',\n",
       "       'nivel_educativo', 'nivel_tarjeta', 'operaciones_ult_12m',\n",
       "       'personas_a_cargo', 'edad', 'importe_solicitado', 'duracion_credito',\n",
       "       'antiguedad_empleado', 'ingresos', 'pct_ingreso', 'tasa_interes',\n",
       "       'estado_credito', 'falta_pago', 'estado_civil_DESCONOCIDO',\n",
       "       'estado_civil_DIVORCIADO', 'estado_civil_SOLTERO',\n",
       "       'estado_cliente_PASIVO', 'genero_M', 'situacion_vivienda_HIPOTECA',\n",
       "       'situacion_vivienda_OTROS', 'situacion_vivienda_PROPIA',\n",
       "       'objetivo_credito_INVERSIONES', 'objetivo_credito_MEJORAS_HOGAR',\n",
       "       'objetivo_credito_PAGO_DEUDAS', 'objetivo_credito_PERSONAL',\n",
       "       'objetivo_credito_SALUD'],\n",
       "      dtype='object')"
      ]
     },
     "execution_count": 446,
     "metadata": {},
     "output_type": "execute_result"
    }
   ],
   "source": [
    "datos_analisis.columns"
   ]
  },
  {
   "cell_type": "markdown",
   "metadata": {},
   "source": [
    "Transformando los datos nuevos, para predicciones"
   ]
  },
  {
   "cell_type": "code",
   "execution_count": 447,
   "metadata": {},
   "outputs": [
    {
     "name": "stdout",
     "output_type": "stream",
     "text": [
      "<class 'pandas.core.frame.DataFrame'>\n",
      "Index: 107 entries, 0 to 111\n",
      "Data columns (total 28 columns):\n",
      " #   Column                          Non-Null Count  Dtype  \n",
      "---  ------                          --------------  -----  \n",
      " 0   id_cliente                      107 non-null    int64  \n",
      " 1   edad                            107 non-null    int64  \n",
      " 2   importe_solicitado              107 non-null    int64  \n",
      " 3   duracion_credito                107 non-null    int64  \n",
      " 4   antiguedad_empleado             107 non-null    float64\n",
      " 5   ingresos                        107 non-null    int64  \n",
      " 6   pct_ingreso                     107 non-null    float64\n",
      " 7   tasa_interes                    107 non-null    float64\n",
      " 8   estado_credito                  107 non-null    int64  \n",
      " 9   antiguedad_cliente              107 non-null    int64  \n",
      " 10  gastos_ult_12m                  107 non-null    float64\n",
      " 11  limite_credito_tc               107 non-null    float64\n",
      " 12  nivel_educativo                 107 non-null    int32  \n",
      " 13  nivel_tarjeta                   107 non-null    int32  \n",
      " 14  operaciones_ult_12m             107 non-null    float64\n",
      " 15  personas_a_cargo                107 non-null    float64\n",
      " 16  estado_civil_DESCONOCIDO        107 non-null    bool   \n",
      " 17  estado_civil_DIVORCIADO         107 non-null    bool   \n",
      " 18  estado_civil_SOLTERO            107 non-null    bool   \n",
      " 19  estado_cliente_PASIVO           107 non-null    bool   \n",
      " 20  genero_M                        107 non-null    bool   \n",
      " 21  situacion_vivienda_HIPOTECA     107 non-null    bool   \n",
      " 22  situacion_vivienda_PROPIA       107 non-null    bool   \n",
      " 23  objetivo_credito_INVERSIONES    107 non-null    bool   \n",
      " 24  objetivo_credito_MEJORAS_HOGAR  107 non-null    bool   \n",
      " 25  objetivo_credito_PAGO_DEUDAS    107 non-null    bool   \n",
      " 26  objetivo_credito_PERSONAL       107 non-null    bool   \n",
      " 27  objetivo_credito_SALUD          107 non-null    bool   \n",
      "dtypes: bool(12), float64(7), int32(2), int64(7)\n",
      "memory usage: 14.6 KB\n"
     ]
    }
   ],
   "source": [
    "#Aplicación de labelEncoder y cambio a variables binaras para la columna objetivo\n",
    "datos_originales = datos_nuevos\n",
    "label_encoder = LabelEncoder()\n",
    "\n",
    "for column in columns_to_label_encoder:\n",
    "    datos_nuevos[column] = label_encoder.fit_transform(datos_nuevos[column])\n",
    "\n",
    "datos_nuevos = pd.get_dummies(datos_nuevos, columns=columns_to_Onehot_encoding, drop_first=True)\n",
    "datos_nuevos.info()"
   ]
  },
  {
   "cell_type": "code",
   "execution_count": 448,
   "metadata": {},
   "outputs": [
    {
     "name": "stdout",
     "output_type": "stream",
     "text": [
      "<class 'pandas.core.frame.DataFrame'>\n",
      "Index: 107 entries, 0 to 111\n",
      "Data columns (total 28 columns):\n",
      " #   Column                          Non-Null Count  Dtype  \n",
      "---  ------                          --------------  -----  \n",
      " 0   edad                            107 non-null    int64  \n",
      " 1   importe_solicitado              107 non-null    int64  \n",
      " 2   duracion_credito                107 non-null    int64  \n",
      " 3   antiguedad_empleado             107 non-null    float64\n",
      " 4   ingresos                        107 non-null    int64  \n",
      " 5   pct_ingreso                     107 non-null    float64\n",
      " 6   tasa_interes                    107 non-null    float64\n",
      " 7   estado_credito                  107 non-null    int64  \n",
      " 8   antiguedad_cliente              107 non-null    int64  \n",
      " 9   gastos_ult_12m                  107 non-null    float64\n",
      " 10  limite_credito_tc               107 non-null    float64\n",
      " 11  nivel_educativo                 107 non-null    int32  \n",
      " 12  nivel_tarjeta                   107 non-null    int32  \n",
      " 13  operaciones_ult_12m             107 non-null    float64\n",
      " 14  personas_a_cargo                107 non-null    float64\n",
      " 15  estado_civil_DESCONOCIDO        107 non-null    bool   \n",
      " 16  estado_civil_DIVORCIADO         107 non-null    bool   \n",
      " 17  estado_civil_SOLTERO            107 non-null    bool   \n",
      " 18  estado_cliente_PASIVO           107 non-null    bool   \n",
      " 19  genero_M                        107 non-null    bool   \n",
      " 20  situacion_vivienda_HIPOTECA     107 non-null    bool   \n",
      " 21  situacion_vivienda_PROPIA       107 non-null    bool   \n",
      " 22  objetivo_credito_INVERSIONES    107 non-null    bool   \n",
      " 23  objetivo_credito_MEJORAS_HOGAR  107 non-null    bool   \n",
      " 24  objetivo_credito_PAGO_DEUDAS    107 non-null    bool   \n",
      " 25  objetivo_credito_PERSONAL       107 non-null    bool   \n",
      " 26  objetivo_credito_SALUD          107 non-null    bool   \n",
      " 27  situacion_vivienda_OTROS        107 non-null    bool   \n",
      "dtypes: bool(13), float64(7), int32(2), int64(6)\n",
      "memory usage: 13.9 KB\n"
     ]
    }
   ],
   "source": [
    "#Se agrega columna faltante: situacion_vivienda_OTROS\n",
    "\n",
    "datos_nuevos['situacion_vivienda_OTROS'] = False\n",
    "datos_nuevos.drop(columns= [\"id_cliente\"], inplace=True)\n",
    "datos_nuevos.info()"
   ]
  },
  {
   "cell_type": "code",
   "execution_count": 449,
   "metadata": {},
   "outputs": [
    {
     "name": "stdout",
     "output_type": "stream",
     "text": [
      "<class 'pandas.core.frame.DataFrame'>\n",
      "Index: 107 entries, 0 to 111\n",
      "Data columns (total 28 columns):\n",
      " #   Column                          Non-Null Count  Dtype  \n",
      "---  ------                          --------------  -----  \n",
      " 0   antiguedad_cliente              107 non-null    int64  \n",
      " 1   gastos_ult_12m                  107 non-null    float64\n",
      " 2   limite_credito_tc               107 non-null    float64\n",
      " 3   nivel_educativo                 107 non-null    int32  \n",
      " 4   nivel_tarjeta                   107 non-null    int32  \n",
      " 5   operaciones_ult_12m             107 non-null    float64\n",
      " 6   personas_a_cargo                107 non-null    float64\n",
      " 7   edad                            107 non-null    int64  \n",
      " 8   importe_solicitado              107 non-null    int64  \n",
      " 9   duracion_credito                107 non-null    int64  \n",
      " 10  antiguedad_empleado             107 non-null    float64\n",
      " 11  ingresos                        107 non-null    int64  \n",
      " 12  pct_ingreso                     107 non-null    float64\n",
      " 13  tasa_interes                    107 non-null    float64\n",
      " 14  estado_credito                  107 non-null    int64  \n",
      " 15  estado_civil_DESCONOCIDO        107 non-null    bool   \n",
      " 16  estado_civil_DIVORCIADO         107 non-null    bool   \n",
      " 17  estado_civil_SOLTERO            107 non-null    bool   \n",
      " 18  estado_cliente_PASIVO           107 non-null    bool   \n",
      " 19  genero_M                        107 non-null    bool   \n",
      " 20  situacion_vivienda_HIPOTECA     107 non-null    bool   \n",
      " 21  situacion_vivienda_OTROS        107 non-null    bool   \n",
      " 22  situacion_vivienda_PROPIA       107 non-null    bool   \n",
      " 23  objetivo_credito_INVERSIONES    107 non-null    bool   \n",
      " 24  objetivo_credito_MEJORAS_HOGAR  107 non-null    bool   \n",
      " 25  objetivo_credito_PAGO_DEUDAS    107 non-null    bool   \n",
      " 26  objetivo_credito_PERSONAL       107 non-null    bool   \n",
      " 27  objetivo_credito_SALUD          107 non-null    bool   \n",
      "dtypes: bool(13), float64(7), int32(2), int64(6)\n",
      "memory usage: 13.9 KB\n"
     ]
    }
   ],
   "source": [
    "datos_nuevos = datos_nuevos.reindex(['antiguedad_cliente', 'gastos_ult_12m', 'limite_credito_tc',\n",
    "       'nivel_educativo', 'nivel_tarjeta', 'operaciones_ult_12m',\n",
    "       'personas_a_cargo', 'edad', 'importe_solicitado', 'duracion_credito',\n",
    "       'antiguedad_empleado', 'ingresos', 'pct_ingreso', 'tasa_interes',\n",
    "       'estado_credito', 'estado_civil_DESCONOCIDO',\n",
    "       'estado_civil_DIVORCIADO', 'estado_civil_SOLTERO',\n",
    "       'estado_cliente_PASIVO', 'genero_M', 'situacion_vivienda_HIPOTECA',\n",
    "       'situacion_vivienda_OTROS', 'situacion_vivienda_PROPIA',\n",
    "       'objetivo_credito_INVERSIONES', 'objetivo_credito_MEJORAS_HOGAR',\n",
    "       'objetivo_credito_PAGO_DEUDAS', 'objetivo_credito_PERSONAL',\n",
    "       'objetivo_credito_SALUD'], axis=1)\n",
    " \n",
    "datos_nuevos.info()"
   ]
  },
  {
   "cell_type": "markdown",
   "metadata": {},
   "source": [
    "Se guardan los datasets en la carpeta de processed"
   ]
  },
  {
   "cell_type": "code",
   "execution_count": 450,
   "metadata": {},
   "outputs": [],
   "source": [
    "datos_nuevos.to_csv('C:/Users/Asus/OneDrive/Documentos/GitHub/actividadPractica/data/processed/datos_nuevos_encoding.csv', index=False)\n",
    "datos_analisis.to_csv('C:/Users/Asus/OneDrive/Documentos/GitHub/actividadPractica/data/processed/datos_creditos_encoding.csv', index=False)\n",
    "datos_originales.to_csv('C:/Users/Asus/OneDrive/Documentos/GitHub/actividadPractica/data/processed/datos_nuevos.csv', index=False)\n",
    "datos_originales_creditos.to_csv('C:/Users/Asus/OneDrive/Documentos/GitHub/actividadPractica/data/processed/datos_creditos.csv', index=False)"
   ]
  }
 ],
 "metadata": {
  "kernelspec": {
   "display_name": "OCT2324",
   "language": "python",
   "name": "python3"
  },
  "language_info": {
   "codemirror_mode": {
    "name": "ipython",
    "version": 3
   },
   "file_extension": ".py",
   "mimetype": "text/x-python",
   "name": "python",
   "nbconvert_exporter": "python",
   "pygments_lexer": "ipython3",
   "version": "3.11.5"
  }
 },
 "nbformat": 4,
 "nbformat_minor": 2
}
